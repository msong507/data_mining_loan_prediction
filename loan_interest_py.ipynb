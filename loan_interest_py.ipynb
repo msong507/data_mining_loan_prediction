{
 "cells": [
  {
   "cell_type": "markdown",
   "id": "8be7292e-2693-40b5-b04f-9abb42c88a86",
   "metadata": {
    "tags": []
   },
   "source": [
    "# Loan Interest Prediction"
   ]
  },
  {
   "cell_type": "markdown",
   "id": "5bd4d15c-94b9-417f-8ef8-8f6b5c4e9665",
   "metadata": {},
   "source": [
    "### Author: Mia Song"
   ]
  },
  {
   "cell_type": "markdown",
   "id": "0cb7c95d-8412-4a6d-81b2-b356f61b41fa",
   "metadata": {
    "tags": []
   },
   "source": [
    "##### Meta Data\n",
    "\n",
    "X1\tInterest Rate on the loan\n",
    "X2\tA unique id for the loan.\n",
    "X3\tA unique id assigned for the borrower.\n",
    "X4\tLoan amount requested\n",
    "X5\tLoan amount funded\n",
    "X6\tInvestor-funded portion of loan\n",
    "X7\tNumber of payments (36 or 60)\n",
    "X8\tLoan grade\n",
    "X9\tLoan subgrade\n",
    "X10\tEmployer or job title (self-filled)\n",
    "X11\tNumber of years employed (0 to 10; 10 = 10 or more)\n",
    "X12\tHome ownership status: RENT, OWN, MORTGAGE, OTHER.\n",
    "X13\tAnnual income of borrower\n",
    "X14\tIncome verified, not verified, or income source was verified\n",
    "X15\tDate loan was issued\n",
    "X16\tReason for loan provided by borrower\n",
    "X17\tLoan category, as provided by borrower\n",
    "X18\tLoan title, as provided by borrower\n",
    "X19\tFirst 3 numbers of zip code\n",
    "X20\tState of borrower\n",
    "X21\tA ratio calculated using the borrower‰Ûªs total monthly debt payments on the total debt obligations, excluding mortgage and the requested loan, divided by the borrower‰Ûªs self-reported monthly income.\n",
    "X22\tThe number of 30+ days past-due incidences of delinquency in the borrower's credit file for the past 2 years\n",
    "X23\tDate the borrower's earliest reported credit line was opened\n",
    "X24\tNumber of inquiries by creditors during the past 6 months.\n",
    "X25\tNumber of months since the borrower's last delinquency.\n",
    "X26\tNumber of months since the last public record.\n",
    "X27\tNumber of open credit lines in the borrower's credit file.\n",
    "X28\tNumber of derogatory public records\n",
    "X29\tTotal credit revolving balance\n",
    "X30\tRevolving line utilization rate, or the amount of credit the borrower is using relative to all available revolving credit.\n",
    "X31\tThe total number of credit lines currently in the borrower's credit file\n",
    "X32\tThe initial listing status of the loan. Possible values are ‰ÛÒ W, F"
   ]
  },
  {
   "cell_type": "markdown",
   "id": "cff604b1-b3a6-42bd-8512-a13b95a82bb5",
   "metadata": {},
   "source": [
    "### Step 1:\n",
    "Clean and prepare your data: There are several entries where values have been deleted to simulate dirty data. Please clean the data with whatever method(s) you believe is best/most suitable. Note that some of the missing values are truly blank (unknown answers) and thus may be impossible to clean; use your discretion."
   ]
  },
  {
   "cell_type": "markdown",
   "id": "8e4e0131-d943-4f51-b4b5-35f9e484272b",
   "metadata": {},
   "source": [
    "1. Import necessary libraries and pakcages \n",
    "2. Import data set and change column numes accordingly based on meta data"
   ]
  },
  {
   "cell_type": "code",
   "execution_count": 1,
   "id": "90218047-9e42-4289-93a3-3f07ca84b770",
   "metadata": {},
   "outputs": [],
   "source": [
    "import pandas as pd\n",
    "import numpy as np\n",
    "import matplotlib.pyplot as plt\n",
    "import seaborn as sns\n",
    "from sklearn.linear_model import LinearRegression\n",
    "from sklearn.cluster import KMeans\n",
    "from sklearn.decomposition import PCA\n",
    "from sklearn.preprocessing import Normalizer\n",
    "from sklearn.preprocessing import StandardScaler\n",
    "from sklearn.model_selection import train_test_split\n",
    "from sklearn.model_selection import cross_val_score\n",
    "from sklearn.metrics import mean_squared_error\n",
    "from math import sqrt\n",
    "from scipy.stats import chi2_contingency\n",
    "from sklearn.neighbors import KNeighborsRegressor\n",
    "from sklearn.tree import DecisionTreeRegressor\n",
    "from sklearn.ensemble import RandomForestRegressor\n",
    "from sklearn.linear_model import LinearRegression\n",
    "from sklearn.linear_model import SGDRegressor\n",
    "from sklearn.linear_model import Lasso, Ridge\n",
    "from sklearn.ensemble import GradientBoostingRegressor\n",
    "import xgboost as xgb"
   ]
  },
  {
   "cell_type": "code",
   "execution_count": 2,
   "id": "6089ea1d-ac52-4e64-a3ea-5ccbe0b74950",
   "metadata": {},
   "outputs": [
    {
     "name": "stderr",
     "output_type": "stream",
     "text": [
      "/var/folders/zt/7p4x8_1d2wdgdv8_dqk8gg080000gn/T/ipykernel_62552/695930546.py:1: DtypeWarning: Columns (15) have mixed types. Specify dtype option on import or set low_memory=False.\n",
      "  df_raw = pd.read_csv('Data for Cleaning & Modeling.csv')\n"
     ]
    }
   ],
   "source": [
    "df_raw = pd.read_csv('Data for Cleaning & Modeling.csv')"
   ]
  },
  {
   "cell_type": "code",
   "execution_count": 3,
   "id": "e85ab880-bae3-4f56-a722-54ffbf811f31",
   "metadata": {},
   "outputs": [
    {
     "data": {
      "text/plain": [
       "Index(['interest_rate', 'id_loan', 'id_borrower', 'loan_requested',\n",
       "       'loan_funded', 'loan_investor', 'due', 'loan_grade', 'loan_subgrade',\n",
       "       'job_title', 'tenure', 'home_ownership', 'income_annual',\n",
       "       'income_verified', 'loan_date', 'loan_reason', 'loan_category',\n",
       "       'loan_title', 'zip', 'state', 'debt_to_income', 'past_due_number',\n",
       "       'credit_open_date', 'inquiry', 'past_due_after', 'past_due_pr_after',\n",
       "       'credit_open_number', 'pr_number', 'revolving', 'revolving_rate',\n",
       "       'credit_all_number', 'loan_status'],\n",
       "      dtype='object')"
      ]
     },
     "execution_count": 3,
     "metadata": {},
     "output_type": "execute_result"
    }
   ],
   "source": [
    "# -1. Apply to the testing data set \n",
    "column_names = ['interest_rate', 'id_loan', 'id_borrower', 'loan_requested', 'loan_funded', 'loan_investor', \n",
    "                'due', 'loan_grade', 'loan_subgrade', 'job_title', 'tenure', 'home_ownership', 'income_annual', \n",
    "                'income_verified', 'loan_date', 'loan_reason', 'loan_category', 'loan_title', 'zip', 'state', \n",
    "                'debt_to_income', 'past_due_number', 'credit_open_date', 'inquiry', 'past_due_after', \n",
    "                'past_due_pr_after', 'credit_open_number', 'pr_number', 'revolving', 'revolving_rate', \n",
    "                'credit_all_number', 'loan_status']\n",
    "df_raw.columns = column_names\n",
    "df_raw.columns"
   ]
  },
  {
   "cell_type": "code",
   "execution_count": 4,
   "id": "4aea6f00-7971-4ea5-8101-b1bf056bca0e",
   "metadata": {},
   "outputs": [],
   "source": [
    "df = df_raw.copy()"
   ]
  },
  {
   "cell_type": "markdown",
   "id": "714d607b-3681-4b3e-b7db-41286c973a28",
   "metadata": {},
   "source": [
    "3. Broadly understand the original data set using .info() and .describe() and .isnull().sum()\n",
    "- Beacause the data set has mixed types of data, .describe(inclue = 'all') was used"
   ]
  },
  {
   "cell_type": "code",
   "execution_count": 5,
   "id": "f3aa5ee8-4c84-482f-a693-7aee7164e773",
   "metadata": {},
   "outputs": [
    {
     "name": "stdout",
     "output_type": "stream",
     "text": [
      "<class 'pandas.core.frame.DataFrame'>\n",
      "RangeIndex: 400000 entries, 0 to 399999\n",
      "Data columns (total 32 columns):\n",
      " #   Column              Non-Null Count   Dtype  \n",
      "---  ------              --------------   -----  \n",
      " 0   interest_rate       338990 non-null  object \n",
      " 1   id_loan             399999 non-null  float64\n",
      " 2   id_borrower         399999 non-null  float64\n",
      " 3   loan_requested      399999 non-null  object \n",
      " 4   loan_funded         399999 non-null  object \n",
      " 5   loan_investor       399999 non-null  object \n",
      " 6   due                 399999 non-null  object \n",
      " 7   loan_grade          338730 non-null  object \n",
      " 8   loan_subgrade       338730 non-null  object \n",
      " 9   job_title           376014 non-null  object \n",
      " 10  tenure              382462 non-null  object \n",
      " 11  home_ownership      338639 non-null  object \n",
      " 12  income_annual       338972 non-null  float64\n",
      " 13  income_verified     399999 non-null  object \n",
      " 14  loan_date           399999 non-null  object \n",
      " 15  loan_reason         123560 non-null  object \n",
      " 16  loan_category       399999 non-null  object \n",
      " 17  loan_title          399981 non-null  object \n",
      " 18  zip                 399999 non-null  object \n",
      " 19  state               399999 non-null  object \n",
      " 20  debt_to_income      399999 non-null  float64\n",
      " 21  past_due_number     399999 non-null  float64\n",
      " 22  credit_open_date    399999 non-null  object \n",
      " 23  inquiry             399999 non-null  float64\n",
      " 24  past_due_after      181198 non-null  float64\n",
      " 25  past_due_pr_after   51155 non-null   float64\n",
      " 26  credit_open_number  399999 non-null  float64\n",
      " 27  pr_number           399999 non-null  float64\n",
      " 28  revolving           399999 non-null  float64\n",
      " 29  revolving_rate      399733 non-null  object \n",
      " 30  credit_all_number   399999 non-null  float64\n",
      " 31  loan_status         399999 non-null  object \n",
      "dtypes: float64(12), object(20)\n",
      "memory usage: 97.7+ MB\n"
     ]
    }
   ],
   "source": [
    "df.info()"
   ]
  },
  {
   "cell_type": "code",
   "execution_count": 6,
   "id": "2f14b230-da1a-498e-a1d2-dc12584dbe3c",
   "metadata": {},
   "outputs": [
    {
     "data": {
      "text/html": [
       "<div>\n",
       "<style scoped>\n",
       "    .dataframe tbody tr th:only-of-type {\n",
       "        vertical-align: middle;\n",
       "    }\n",
       "\n",
       "    .dataframe tbody tr th {\n",
       "        vertical-align: top;\n",
       "    }\n",
       "\n",
       "    .dataframe thead th {\n",
       "        text-align: right;\n",
       "    }\n",
       "</style>\n",
       "<table border=\"1\" class=\"dataframe\">\n",
       "  <thead>\n",
       "    <tr style=\"text-align: right;\">\n",
       "      <th></th>\n",
       "      <th>interest_rate</th>\n",
       "      <th>id_loan</th>\n",
       "      <th>id_borrower</th>\n",
       "      <th>loan_requested</th>\n",
       "      <th>loan_funded</th>\n",
       "      <th>loan_investor</th>\n",
       "      <th>due</th>\n",
       "      <th>loan_grade</th>\n",
       "      <th>loan_subgrade</th>\n",
       "      <th>job_title</th>\n",
       "      <th>...</th>\n",
       "      <th>credit_open_date</th>\n",
       "      <th>inquiry</th>\n",
       "      <th>past_due_after</th>\n",
       "      <th>past_due_pr_after</th>\n",
       "      <th>credit_open_number</th>\n",
       "      <th>pr_number</th>\n",
       "      <th>revolving</th>\n",
       "      <th>revolving_rate</th>\n",
       "      <th>credit_all_number</th>\n",
       "      <th>loan_status</th>\n",
       "    </tr>\n",
       "  </thead>\n",
       "  <tbody>\n",
       "    <tr>\n",
       "      <th>count</th>\n",
       "      <td>338990</td>\n",
       "      <td>3.999990e+05</td>\n",
       "      <td>3.999990e+05</td>\n",
       "      <td>399999</td>\n",
       "      <td>399999</td>\n",
       "      <td>399999</td>\n",
       "      <td>399999</td>\n",
       "      <td>338730</td>\n",
       "      <td>338730</td>\n",
       "      <td>376014</td>\n",
       "      <td>...</td>\n",
       "      <td>399999</td>\n",
       "      <td>399999.000000</td>\n",
       "      <td>181198.000000</td>\n",
       "      <td>51155.000000</td>\n",
       "      <td>399999.000000</td>\n",
       "      <td>399999.000000</td>\n",
       "      <td>3.999990e+05</td>\n",
       "      <td>399733</td>\n",
       "      <td>399999.000000</td>\n",
       "      <td>399999</td>\n",
       "    </tr>\n",
       "    <tr>\n",
       "      <th>unique</th>\n",
       "      <td>482</td>\n",
       "      <td>NaN</td>\n",
       "      <td>NaN</td>\n",
       "      <td>1339</td>\n",
       "      <td>1342</td>\n",
       "      <td>7036</td>\n",
       "      <td>2</td>\n",
       "      <td>7</td>\n",
       "      <td>35</td>\n",
       "      <td>187821</td>\n",
       "      <td>...</td>\n",
       "      <td>660</td>\n",
       "      <td>NaN</td>\n",
       "      <td>NaN</td>\n",
       "      <td>NaN</td>\n",
       "      <td>NaN</td>\n",
       "      <td>NaN</td>\n",
       "      <td>NaN</td>\n",
       "      <td>1231</td>\n",
       "      <td>NaN</td>\n",
       "      <td>2</td>\n",
       "    </tr>\n",
       "    <tr>\n",
       "      <th>top</th>\n",
       "      <td>10.99%</td>\n",
       "      <td>NaN</td>\n",
       "      <td>NaN</td>\n",
       "      <td>$10,000</td>\n",
       "      <td>$10,000</td>\n",
       "      <td>$10,000</td>\n",
       "      <td>36 months</td>\n",
       "      <td>B</td>\n",
       "      <td>B3</td>\n",
       "      <td>Teacher</td>\n",
       "      <td>...</td>\n",
       "      <td>Oct-00</td>\n",
       "      <td>NaN</td>\n",
       "      <td>NaN</td>\n",
       "      <td>NaN</td>\n",
       "      <td>NaN</td>\n",
       "      <td>NaN</td>\n",
       "      <td>NaN</td>\n",
       "      <td>0%</td>\n",
       "      <td>NaN</td>\n",
       "      <td>f</td>\n",
       "    </tr>\n",
       "    <tr>\n",
       "      <th>freq</th>\n",
       "      <td>11082</td>\n",
       "      <td>NaN</td>\n",
       "      <td>NaN</td>\n",
       "      <td>28417</td>\n",
       "      <td>28324</td>\n",
       "      <td>24319</td>\n",
       "      <td>292369</td>\n",
       "      <td>101668</td>\n",
       "      <td>24009</td>\n",
       "      <td>4222</td>\n",
       "      <td>...</td>\n",
       "      <td>3225</td>\n",
       "      <td>NaN</td>\n",
       "      <td>NaN</td>\n",
       "      <td>NaN</td>\n",
       "      <td>NaN</td>\n",
       "      <td>NaN</td>\n",
       "      <td>NaN</td>\n",
       "      <td>2021</td>\n",
       "      <td>NaN</td>\n",
       "      <td>274313</td>\n",
       "    </tr>\n",
       "    <tr>\n",
       "      <th>mean</th>\n",
       "      <td>NaN</td>\n",
       "      <td>9.984493e+06</td>\n",
       "      <td>1.133899e+07</td>\n",
       "      <td>NaN</td>\n",
       "      <td>NaN</td>\n",
       "      <td>NaN</td>\n",
       "      <td>NaN</td>\n",
       "      <td>NaN</td>\n",
       "      <td>NaN</td>\n",
       "      <td>NaN</td>\n",
       "      <td>...</td>\n",
       "      <td>NaN</td>\n",
       "      <td>0.817155</td>\n",
       "      <td>34.312117</td>\n",
       "      <td>76.320399</td>\n",
       "      <td>11.117953</td>\n",
       "      <td>0.152285</td>\n",
       "      <td>1.595605e+04</td>\n",
       "      <td>NaN</td>\n",
       "      <td>24.983010</td>\n",
       "      <td>NaN</td>\n",
       "    </tr>\n",
       "    <tr>\n",
       "      <th>std</th>\n",
       "      <td>NaN</td>\n",
       "      <td>7.928778e+06</td>\n",
       "      <td>8.663918e+06</td>\n",
       "      <td>NaN</td>\n",
       "      <td>NaN</td>\n",
       "      <td>NaN</td>\n",
       "      <td>NaN</td>\n",
       "      <td>NaN</td>\n",
       "      <td>NaN</td>\n",
       "      <td>NaN</td>\n",
       "      <td>...</td>\n",
       "      <td>NaN</td>\n",
       "      <td>1.058746</td>\n",
       "      <td>21.787313</td>\n",
       "      <td>29.804509</td>\n",
       "      <td>4.898569</td>\n",
       "      <td>0.497389</td>\n",
       "      <td>1.952811e+04</td>\n",
       "      <td>NaN</td>\n",
       "      <td>11.473478</td>\n",
       "      <td>NaN</td>\n",
       "    </tr>\n",
       "    <tr>\n",
       "      <th>min</th>\n",
       "      <td>NaN</td>\n",
       "      <td>5.473400e+04</td>\n",
       "      <td>7.069900e+04</td>\n",
       "      <td>NaN</td>\n",
       "      <td>NaN</td>\n",
       "      <td>NaN</td>\n",
       "      <td>NaN</td>\n",
       "      <td>NaN</td>\n",
       "      <td>NaN</td>\n",
       "      <td>NaN</td>\n",
       "      <td>...</td>\n",
       "      <td>NaN</td>\n",
       "      <td>0.000000</td>\n",
       "      <td>0.000000</td>\n",
       "      <td>0.000000</td>\n",
       "      <td>0.000000</td>\n",
       "      <td>0.000000</td>\n",
       "      <td>0.000000e+00</td>\n",
       "      <td>NaN</td>\n",
       "      <td>2.000000</td>\n",
       "      <td>NaN</td>\n",
       "    </tr>\n",
       "    <tr>\n",
       "      <th>25%</th>\n",
       "      <td>NaN</td>\n",
       "      <td>3.151742e+06</td>\n",
       "      <td>3.727712e+06</td>\n",
       "      <td>NaN</td>\n",
       "      <td>NaN</td>\n",
       "      <td>NaN</td>\n",
       "      <td>NaN</td>\n",
       "      <td>NaN</td>\n",
       "      <td>NaN</td>\n",
       "      <td>NaN</td>\n",
       "      <td>...</td>\n",
       "      <td>NaN</td>\n",
       "      <td>0.000000</td>\n",
       "      <td>16.000000</td>\n",
       "      <td>54.000000</td>\n",
       "      <td>8.000000</td>\n",
       "      <td>0.000000</td>\n",
       "      <td>6.453000e+03</td>\n",
       "      <td>NaN</td>\n",
       "      <td>17.000000</td>\n",
       "      <td>NaN</td>\n",
       "    </tr>\n",
       "    <tr>\n",
       "      <th>50%</th>\n",
       "      <td>NaN</td>\n",
       "      <td>8.234778e+06</td>\n",
       "      <td>9.667699e+06</td>\n",
       "      <td>NaN</td>\n",
       "      <td>NaN</td>\n",
       "      <td>NaN</td>\n",
       "      <td>NaN</td>\n",
       "      <td>NaN</td>\n",
       "      <td>NaN</td>\n",
       "      <td>NaN</td>\n",
       "      <td>...</td>\n",
       "      <td>NaN</td>\n",
       "      <td>0.000000</td>\n",
       "      <td>31.000000</td>\n",
       "      <td>80.000000</td>\n",
       "      <td>10.000000</td>\n",
       "      <td>0.000000</td>\n",
       "      <td>1.177800e+04</td>\n",
       "      <td>NaN</td>\n",
       "      <td>23.000000</td>\n",
       "      <td>NaN</td>\n",
       "    </tr>\n",
       "    <tr>\n",
       "      <th>75%</th>\n",
       "      <td>NaN</td>\n",
       "      <td>1.532960e+07</td>\n",
       "      <td>1.731219e+07</td>\n",
       "      <td>NaN</td>\n",
       "      <td>NaN</td>\n",
       "      <td>NaN</td>\n",
       "      <td>NaN</td>\n",
       "      <td>NaN</td>\n",
       "      <td>NaN</td>\n",
       "      <td>NaN</td>\n",
       "      <td>...</td>\n",
       "      <td>NaN</td>\n",
       "      <td>1.000000</td>\n",
       "      <td>50.000000</td>\n",
       "      <td>103.000000</td>\n",
       "      <td>14.000000</td>\n",
       "      <td>0.000000</td>\n",
       "      <td>2.020900e+04</td>\n",
       "      <td>NaN</td>\n",
       "      <td>32.000000</td>\n",
       "      <td>NaN</td>\n",
       "    </tr>\n",
       "    <tr>\n",
       "      <th>max</th>\n",
       "      <td>NaN</td>\n",
       "      <td>2.875315e+07</td>\n",
       "      <td>3.127805e+07</td>\n",
       "      <td>NaN</td>\n",
       "      <td>NaN</td>\n",
       "      <td>NaN</td>\n",
       "      <td>NaN</td>\n",
       "      <td>NaN</td>\n",
       "      <td>NaN</td>\n",
       "      <td>NaN</td>\n",
       "      <td>...</td>\n",
       "      <td>NaN</td>\n",
       "      <td>8.000000</td>\n",
       "      <td>188.000000</td>\n",
       "      <td>129.000000</td>\n",
       "      <td>76.000000</td>\n",
       "      <td>63.000000</td>\n",
       "      <td>2.568995e+06</td>\n",
       "      <td>NaN</td>\n",
       "      <td>121.000000</td>\n",
       "      <td>NaN</td>\n",
       "    </tr>\n",
       "  </tbody>\n",
       "</table>\n",
       "<p>11 rows × 32 columns</p>\n",
       "</div>"
      ],
      "text/plain": [
       "       interest_rate       id_loan   id_borrower loan_requested loan_funded  \\\n",
       "count         338990  3.999990e+05  3.999990e+05         399999      399999   \n",
       "unique           482           NaN           NaN           1339        1342   \n",
       "top           10.99%           NaN           NaN        $10,000     $10,000   \n",
       "freq           11082           NaN           NaN          28417       28324   \n",
       "mean             NaN  9.984493e+06  1.133899e+07            NaN         NaN   \n",
       "std              NaN  7.928778e+06  8.663918e+06            NaN         NaN   \n",
       "min              NaN  5.473400e+04  7.069900e+04            NaN         NaN   \n",
       "25%              NaN  3.151742e+06  3.727712e+06            NaN         NaN   \n",
       "50%              NaN  8.234778e+06  9.667699e+06            NaN         NaN   \n",
       "75%              NaN  1.532960e+07  1.731219e+07            NaN         NaN   \n",
       "max              NaN  2.875315e+07  3.127805e+07            NaN         NaN   \n",
       "\n",
       "       loan_investor         due loan_grade loan_subgrade job_title  ...  \\\n",
       "count         399999      399999     338730        338730    376014  ...   \n",
       "unique          7036           2          7            35    187821  ...   \n",
       "top          $10,000   36 months          B            B3   Teacher  ...   \n",
       "freq           24319      292369     101668         24009      4222  ...   \n",
       "mean             NaN         NaN        NaN           NaN       NaN  ...   \n",
       "std              NaN         NaN        NaN           NaN       NaN  ...   \n",
       "min              NaN         NaN        NaN           NaN       NaN  ...   \n",
       "25%              NaN         NaN        NaN           NaN       NaN  ...   \n",
       "50%              NaN         NaN        NaN           NaN       NaN  ...   \n",
       "75%              NaN         NaN        NaN           NaN       NaN  ...   \n",
       "max              NaN         NaN        NaN           NaN       NaN  ...   \n",
       "\n",
       "       credit_open_date        inquiry  past_due_after past_due_pr_after  \\\n",
       "count            399999  399999.000000   181198.000000      51155.000000   \n",
       "unique              660            NaN             NaN               NaN   \n",
       "top              Oct-00            NaN             NaN               NaN   \n",
       "freq               3225            NaN             NaN               NaN   \n",
       "mean                NaN       0.817155       34.312117         76.320399   \n",
       "std                 NaN       1.058746       21.787313         29.804509   \n",
       "min                 NaN       0.000000        0.000000          0.000000   \n",
       "25%                 NaN       0.000000       16.000000         54.000000   \n",
       "50%                 NaN       0.000000       31.000000         80.000000   \n",
       "75%                 NaN       1.000000       50.000000        103.000000   \n",
       "max                 NaN       8.000000      188.000000        129.000000   \n",
       "\n",
       "       credit_open_number      pr_number     revolving revolving_rate  \\\n",
       "count       399999.000000  399999.000000  3.999990e+05         399733   \n",
       "unique                NaN            NaN           NaN           1231   \n",
       "top                   NaN            NaN           NaN             0%   \n",
       "freq                  NaN            NaN           NaN           2021   \n",
       "mean            11.117953       0.152285  1.595605e+04            NaN   \n",
       "std              4.898569       0.497389  1.952811e+04            NaN   \n",
       "min              0.000000       0.000000  0.000000e+00            NaN   \n",
       "25%              8.000000       0.000000  6.453000e+03            NaN   \n",
       "50%             10.000000       0.000000  1.177800e+04            NaN   \n",
       "75%             14.000000       0.000000  2.020900e+04            NaN   \n",
       "max             76.000000      63.000000  2.568995e+06            NaN   \n",
       "\n",
       "       credit_all_number loan_status  \n",
       "count      399999.000000      399999  \n",
       "unique               NaN           2  \n",
       "top                  NaN           f  \n",
       "freq                 NaN      274313  \n",
       "mean           24.983010         NaN  \n",
       "std            11.473478         NaN  \n",
       "min             2.000000         NaN  \n",
       "25%            17.000000         NaN  \n",
       "50%            23.000000         NaN  \n",
       "75%            32.000000         NaN  \n",
       "max           121.000000         NaN  \n",
       "\n",
       "[11 rows x 32 columns]"
      ]
     },
     "execution_count": 6,
     "metadata": {},
     "output_type": "execute_result"
    }
   ],
   "source": [
    "df.describe(include = 'all')"
   ]
  },
  {
   "cell_type": "code",
   "execution_count": 7,
   "id": "fbdb5a3d-71ed-48a5-9709-215e6e11c2ae",
   "metadata": {},
   "outputs": [
    {
     "data": {
      "text/html": [
       "<div>\n",
       "<style scoped>\n",
       "    .dataframe tbody tr th:only-of-type {\n",
       "        vertical-align: middle;\n",
       "    }\n",
       "\n",
       "    .dataframe tbody tr th {\n",
       "        vertical-align: top;\n",
       "    }\n",
       "\n",
       "    .dataframe thead th {\n",
       "        text-align: right;\n",
       "    }\n",
       "</style>\n",
       "<table border=\"1\" class=\"dataframe\">\n",
       "  <thead>\n",
       "    <tr style=\"text-align: right;\">\n",
       "      <th></th>\n",
       "      <th>null_values(#)</th>\n",
       "      <th>null_ratio(%)</th>\n",
       "    </tr>\n",
       "  </thead>\n",
       "  <tbody>\n",
       "    <tr>\n",
       "      <th>past_due_pr_after</th>\n",
       "      <td>348845</td>\n",
       "      <td>87.21125</td>\n",
       "    </tr>\n",
       "    <tr>\n",
       "      <th>loan_reason</th>\n",
       "      <td>276440</td>\n",
       "      <td>69.11000</td>\n",
       "    </tr>\n",
       "    <tr>\n",
       "      <th>past_due_after</th>\n",
       "      <td>218802</td>\n",
       "      <td>54.70050</td>\n",
       "    </tr>\n",
       "    <tr>\n",
       "      <th>home_ownership</th>\n",
       "      <td>61361</td>\n",
       "      <td>15.34025</td>\n",
       "    </tr>\n",
       "    <tr>\n",
       "      <th>loan_grade</th>\n",
       "      <td>61270</td>\n",
       "      <td>15.31750</td>\n",
       "    </tr>\n",
       "    <tr>\n",
       "      <th>loan_subgrade</th>\n",
       "      <td>61270</td>\n",
       "      <td>15.31750</td>\n",
       "    </tr>\n",
       "    <tr>\n",
       "      <th>income_annual</th>\n",
       "      <td>61028</td>\n",
       "      <td>15.25700</td>\n",
       "    </tr>\n",
       "    <tr>\n",
       "      <th>interest_rate</th>\n",
       "      <td>61010</td>\n",
       "      <td>15.25250</td>\n",
       "    </tr>\n",
       "    <tr>\n",
       "      <th>job_title</th>\n",
       "      <td>23986</td>\n",
       "      <td>5.99650</td>\n",
       "    </tr>\n",
       "    <tr>\n",
       "      <th>tenure</th>\n",
       "      <td>17538</td>\n",
       "      <td>4.38450</td>\n",
       "    </tr>\n",
       "    <tr>\n",
       "      <th>revolving_rate</th>\n",
       "      <td>267</td>\n",
       "      <td>0.06675</td>\n",
       "    </tr>\n",
       "    <tr>\n",
       "      <th>loan_title</th>\n",
       "      <td>19</td>\n",
       "      <td>0.00475</td>\n",
       "    </tr>\n",
       "    <tr>\n",
       "      <th>debt_to_income</th>\n",
       "      <td>1</td>\n",
       "      <td>0.00025</td>\n",
       "    </tr>\n",
       "    <tr>\n",
       "      <th>credit_open_number</th>\n",
       "      <td>1</td>\n",
       "      <td>0.00025</td>\n",
       "    </tr>\n",
       "    <tr>\n",
       "      <th>pr_number</th>\n",
       "      <td>1</td>\n",
       "      <td>0.00025</td>\n",
       "    </tr>\n",
       "    <tr>\n",
       "      <th>revolving</th>\n",
       "      <td>1</td>\n",
       "      <td>0.00025</td>\n",
       "    </tr>\n",
       "    <tr>\n",
       "      <th>credit_all_number</th>\n",
       "      <td>1</td>\n",
       "      <td>0.00025</td>\n",
       "    </tr>\n",
       "    <tr>\n",
       "      <th>inquiry</th>\n",
       "      <td>1</td>\n",
       "      <td>0.00025</td>\n",
       "    </tr>\n",
       "    <tr>\n",
       "      <th>credit_open_date</th>\n",
       "      <td>1</td>\n",
       "      <td>0.00025</td>\n",
       "    </tr>\n",
       "    <tr>\n",
       "      <th>past_due_number</th>\n",
       "      <td>1</td>\n",
       "      <td>0.00025</td>\n",
       "    </tr>\n",
       "    <tr>\n",
       "      <th>loan_category</th>\n",
       "      <td>1</td>\n",
       "      <td>0.00025</td>\n",
       "    </tr>\n",
       "    <tr>\n",
       "      <th>state</th>\n",
       "      <td>1</td>\n",
       "      <td>0.00025</td>\n",
       "    </tr>\n",
       "    <tr>\n",
       "      <th>zip</th>\n",
       "      <td>1</td>\n",
       "      <td>0.00025</td>\n",
       "    </tr>\n",
       "    <tr>\n",
       "      <th>id_loan</th>\n",
       "      <td>1</td>\n",
       "      <td>0.00025</td>\n",
       "    </tr>\n",
       "    <tr>\n",
       "      <th>loan_date</th>\n",
       "      <td>1</td>\n",
       "      <td>0.00025</td>\n",
       "    </tr>\n",
       "    <tr>\n",
       "      <th>income_verified</th>\n",
       "      <td>1</td>\n",
       "      <td>0.00025</td>\n",
       "    </tr>\n",
       "    <tr>\n",
       "      <th>due</th>\n",
       "      <td>1</td>\n",
       "      <td>0.00025</td>\n",
       "    </tr>\n",
       "    <tr>\n",
       "      <th>loan_investor</th>\n",
       "      <td>1</td>\n",
       "      <td>0.00025</td>\n",
       "    </tr>\n",
       "    <tr>\n",
       "      <th>loan_funded</th>\n",
       "      <td>1</td>\n",
       "      <td>0.00025</td>\n",
       "    </tr>\n",
       "    <tr>\n",
       "      <th>loan_requested</th>\n",
       "      <td>1</td>\n",
       "      <td>0.00025</td>\n",
       "    </tr>\n",
       "    <tr>\n",
       "      <th>id_borrower</th>\n",
       "      <td>1</td>\n",
       "      <td>0.00025</td>\n",
       "    </tr>\n",
       "    <tr>\n",
       "      <th>loan_status</th>\n",
       "      <td>1</td>\n",
       "      <td>0.00025</td>\n",
       "    </tr>\n",
       "  </tbody>\n",
       "</table>\n",
       "</div>"
      ],
      "text/plain": [
       "                    null_values(#)  null_ratio(%)\n",
       "past_due_pr_after           348845       87.21125\n",
       "loan_reason                 276440       69.11000\n",
       "past_due_after              218802       54.70050\n",
       "home_ownership               61361       15.34025\n",
       "loan_grade                   61270       15.31750\n",
       "loan_subgrade                61270       15.31750\n",
       "income_annual                61028       15.25700\n",
       "interest_rate                61010       15.25250\n",
       "job_title                    23986        5.99650\n",
       "tenure                       17538        4.38450\n",
       "revolving_rate                 267        0.06675\n",
       "loan_title                      19        0.00475\n",
       "debt_to_income                   1        0.00025\n",
       "credit_open_number               1        0.00025\n",
       "pr_number                        1        0.00025\n",
       "revolving                        1        0.00025\n",
       "credit_all_number                1        0.00025\n",
       "inquiry                          1        0.00025\n",
       "credit_open_date                 1        0.00025\n",
       "past_due_number                  1        0.00025\n",
       "loan_category                    1        0.00025\n",
       "state                            1        0.00025\n",
       "zip                              1        0.00025\n",
       "id_loan                          1        0.00025\n",
       "loan_date                        1        0.00025\n",
       "income_verified                  1        0.00025\n",
       "due                              1        0.00025\n",
       "loan_investor                    1        0.00025\n",
       "loan_funded                      1        0.00025\n",
       "loan_requested                   1        0.00025\n",
       "id_borrower                      1        0.00025\n",
       "loan_status                      1        0.00025"
      ]
     },
     "execution_count": 7,
     "metadata": {},
     "output_type": "execute_result"
    }
   ],
   "source": [
    "df_null = pd.DataFrame(df.isnull().sum())\n",
    "df_null_ratio = pd.DataFrame(df.isnull().sum() / len(df) * 100)\n",
    "\n",
    "df_null_report = pd.concat([df_null, df_null_ratio], axis = 1)\n",
    "df_null_report.columns = ['null_values(#)', 'null_ratio(%)']\n",
    "df_null_report.sort_values(by = 'null_values(#)', ascending = False, inplace = True)\n",
    "\n",
    "df_null_report"
   ]
  },
  {
   "cell_type": "markdown",
   "id": "c62d12ee-99ab-46d5-97cc-ad83e55b9854",
   "metadata": {},
   "source": [
    "5. Remove null values"
   ]
  },
  {
   "cell_type": "markdown",
   "id": "b466eace-b41e-4a3b-aa84-3048c39a18ff",
   "metadata": {},
   "source": [
    "5.1. Just drop the insignificant null valeus for analysis\n",
    "- Features conain with one missing value in total\n",
    "- The influence is insignificant, so just drop the null value\n",
    "- However, we will also drop null from interest_rate(Interest Rate on the loan). This is y variable in our supervised learning, so cannot be null"
   ]
  },
  {
   "cell_type": "code",
   "execution_count": 8,
   "id": "4094d540-90e3-4340-9c61-3dd3aea6559f",
   "metadata": {},
   "outputs": [],
   "source": [
    "# 0. Apply to the testing data set \n",
    "df = df.dropna(subset = ['interest_rate', 'debt_to_income', 'credit_open_number', 'pr_number', 'revolving', 'credit_all_number', \n",
    "                      'inquiry', 'credit_open_date', 'credit_open_date', 'past_due_number', 'loan_category',\n",
    "                      'state', 'zip', 'id_loan', 'loan_date', 'income_verified', 'due', 'loan_investor',\n",
    "                      'loan_funded', 'loan_requested', 'id_borrower', 'loan_status'])"
   ]
  },
  {
   "cell_type": "code",
   "execution_count": 9,
   "id": "4fe65312-42ce-4967-8e54-fa12befdb58d",
   "metadata": {},
   "outputs": [
    {
     "data": {
      "text/html": [
       "<div>\n",
       "<style scoped>\n",
       "    .dataframe tbody tr th:only-of-type {\n",
       "        vertical-align: middle;\n",
       "    }\n",
       "\n",
       "    .dataframe tbody tr th {\n",
       "        vertical-align: top;\n",
       "    }\n",
       "\n",
       "    .dataframe thead th {\n",
       "        text-align: right;\n",
       "    }\n",
       "</style>\n",
       "<table border=\"1\" class=\"dataframe\">\n",
       "  <thead>\n",
       "    <tr style=\"text-align: right;\">\n",
       "      <th></th>\n",
       "      <th>null_values(#)</th>\n",
       "      <th>null_ratio(%)</th>\n",
       "    </tr>\n",
       "  </thead>\n",
       "  <tbody>\n",
       "    <tr>\n",
       "      <th>past_due_pr_after</th>\n",
       "      <td>295589</td>\n",
       "      <td>87.197225</td>\n",
       "    </tr>\n",
       "    <tr>\n",
       "      <th>loan_reason</th>\n",
       "      <td>233933</td>\n",
       "      <td>69.009024</td>\n",
       "    </tr>\n",
       "    <tr>\n",
       "      <th>past_due_after</th>\n",
       "      <td>185456</td>\n",
       "      <td>54.708560</td>\n",
       "    </tr>\n",
       "    <tr>\n",
       "      <th>home_ownership</th>\n",
       "      <td>51959</td>\n",
       "      <td>15.327636</td>\n",
       "    </tr>\n",
       "    <tr>\n",
       "      <th>loan_grade</th>\n",
       "      <td>51866</td>\n",
       "      <td>15.300201</td>\n",
       "    </tr>\n",
       "    <tr>\n",
       "      <th>loan_subgrade</th>\n",
       "      <td>51866</td>\n",
       "      <td>15.300201</td>\n",
       "    </tr>\n",
       "    <tr>\n",
       "      <th>income_annual</th>\n",
       "      <td>51751</td>\n",
       "      <td>15.266277</td>\n",
       "    </tr>\n",
       "    <tr>\n",
       "      <th>job_title</th>\n",
       "      <td>20256</td>\n",
       "      <td>5.975415</td>\n",
       "    </tr>\n",
       "    <tr>\n",
       "      <th>tenure</th>\n",
       "      <td>14794</td>\n",
       "      <td>4.364153</td>\n",
       "    </tr>\n",
       "    <tr>\n",
       "      <th>revolving_rate</th>\n",
       "      <td>224</td>\n",
       "      <td>0.066079</td>\n",
       "    </tr>\n",
       "    <tr>\n",
       "      <th>loan_title</th>\n",
       "      <td>16</td>\n",
       "      <td>0.004720</td>\n",
       "    </tr>\n",
       "    <tr>\n",
       "      <th>credit_open_date</th>\n",
       "      <td>0</td>\n",
       "      <td>0.000000</td>\n",
       "    </tr>\n",
       "    <tr>\n",
       "      <th>inquiry</th>\n",
       "      <td>0</td>\n",
       "      <td>0.000000</td>\n",
       "    </tr>\n",
       "    <tr>\n",
       "      <th>interest_rate</th>\n",
       "      <td>0</td>\n",
       "      <td>0.000000</td>\n",
       "    </tr>\n",
       "    <tr>\n",
       "      <th>debt_to_income</th>\n",
       "      <td>0</td>\n",
       "      <td>0.000000</td>\n",
       "    </tr>\n",
       "    <tr>\n",
       "      <th>credit_open_number</th>\n",
       "      <td>0</td>\n",
       "      <td>0.000000</td>\n",
       "    </tr>\n",
       "    <tr>\n",
       "      <th>pr_number</th>\n",
       "      <td>0</td>\n",
       "      <td>0.000000</td>\n",
       "    </tr>\n",
       "    <tr>\n",
       "      <th>revolving</th>\n",
       "      <td>0</td>\n",
       "      <td>0.000000</td>\n",
       "    </tr>\n",
       "    <tr>\n",
       "      <th>credit_all_number</th>\n",
       "      <td>0</td>\n",
       "      <td>0.000000</td>\n",
       "    </tr>\n",
       "    <tr>\n",
       "      <th>past_due_number</th>\n",
       "      <td>0</td>\n",
       "      <td>0.000000</td>\n",
       "    </tr>\n",
       "    <tr>\n",
       "      <th>loan_category</th>\n",
       "      <td>0</td>\n",
       "      <td>0.000000</td>\n",
       "    </tr>\n",
       "    <tr>\n",
       "      <th>state</th>\n",
       "      <td>0</td>\n",
       "      <td>0.000000</td>\n",
       "    </tr>\n",
       "    <tr>\n",
       "      <th>zip</th>\n",
       "      <td>0</td>\n",
       "      <td>0.000000</td>\n",
       "    </tr>\n",
       "    <tr>\n",
       "      <th>id_loan</th>\n",
       "      <td>0</td>\n",
       "      <td>0.000000</td>\n",
       "    </tr>\n",
       "    <tr>\n",
       "      <th>loan_date</th>\n",
       "      <td>0</td>\n",
       "      <td>0.000000</td>\n",
       "    </tr>\n",
       "    <tr>\n",
       "      <th>income_verified</th>\n",
       "      <td>0</td>\n",
       "      <td>0.000000</td>\n",
       "    </tr>\n",
       "    <tr>\n",
       "      <th>due</th>\n",
       "      <td>0</td>\n",
       "      <td>0.000000</td>\n",
       "    </tr>\n",
       "    <tr>\n",
       "      <th>loan_investor</th>\n",
       "      <td>0</td>\n",
       "      <td>0.000000</td>\n",
       "    </tr>\n",
       "    <tr>\n",
       "      <th>loan_funded</th>\n",
       "      <td>0</td>\n",
       "      <td>0.000000</td>\n",
       "    </tr>\n",
       "    <tr>\n",
       "      <th>loan_requested</th>\n",
       "      <td>0</td>\n",
       "      <td>0.000000</td>\n",
       "    </tr>\n",
       "    <tr>\n",
       "      <th>id_borrower</th>\n",
       "      <td>0</td>\n",
       "      <td>0.000000</td>\n",
       "    </tr>\n",
       "    <tr>\n",
       "      <th>loan_status</th>\n",
       "      <td>0</td>\n",
       "      <td>0.000000</td>\n",
       "    </tr>\n",
       "  </tbody>\n",
       "</table>\n",
       "</div>"
      ],
      "text/plain": [
       "                    null_values(#)  null_ratio(%)\n",
       "past_due_pr_after           295589      87.197225\n",
       "loan_reason                 233933      69.009024\n",
       "past_due_after              185456      54.708560\n",
       "home_ownership               51959      15.327636\n",
       "loan_grade                   51866      15.300201\n",
       "loan_subgrade                51866      15.300201\n",
       "income_annual                51751      15.266277\n",
       "job_title                    20256       5.975415\n",
       "tenure                       14794       4.364153\n",
       "revolving_rate                 224       0.066079\n",
       "loan_title                      16       0.004720\n",
       "credit_open_date                 0       0.000000\n",
       "inquiry                          0       0.000000\n",
       "interest_rate                    0       0.000000\n",
       "debt_to_income                   0       0.000000\n",
       "credit_open_number               0       0.000000\n",
       "pr_number                        0       0.000000\n",
       "revolving                        0       0.000000\n",
       "credit_all_number                0       0.000000\n",
       "past_due_number                  0       0.000000\n",
       "loan_category                    0       0.000000\n",
       "state                            0       0.000000\n",
       "zip                              0       0.000000\n",
       "id_loan                          0       0.000000\n",
       "loan_date                        0       0.000000\n",
       "income_verified                  0       0.000000\n",
       "due                              0       0.000000\n",
       "loan_investor                    0       0.000000\n",
       "loan_funded                      0       0.000000\n",
       "loan_requested                   0       0.000000\n",
       "id_borrower                      0       0.000000\n",
       "loan_status                      0       0.000000"
      ]
     },
     "execution_count": 9,
     "metadata": {},
     "output_type": "execute_result"
    }
   ],
   "source": [
    "df_null = pd.DataFrame(df.isnull().sum())\n",
    "df_null_ratio = pd.DataFrame(df.isnull().sum() / len(df) * 100)\n",
    "\n",
    "df_null_report = pd.concat([df_null, df_null_ratio], axis = 1)\n",
    "df_null_report.columns = ['null_values(#)', 'null_ratio(%)']\n",
    "df_null_report.sort_values(by = 'null_values(#)', ascending = False, inplace = True)\n",
    "\n",
    "df_null_report"
   ]
  },
  {
   "cell_type": "markdown",
   "id": "6439acd1-0bbd-4753-a5c8-710af72529f7",
   "metadata": {},
   "source": [
    "5.2. Drop columns with a too large portion of null values (>50%)"
   ]
  },
  {
   "cell_type": "code",
   "execution_count": 10,
   "id": "7be323b0-fcfe-42f5-ae4d-c78efb817c42",
   "metadata": {},
   "outputs": [
    {
     "data": {
      "text/plain": [
       "29"
      ]
     },
     "execution_count": 10,
     "metadata": {},
     "output_type": "execute_result"
    }
   ],
   "source": [
    "# 1. Apply to the testing data set \n",
    "# For a better analysis, we could apply NLP to loan_reason, but we will drop it for now.\n",
    "\n",
    "cols = ['past_due_pr_after', 'loan_reason', 'past_due_after']\n",
    "\n",
    "df = df.drop(cols, axis = 1)\n",
    "len(df.columns)"
   ]
  },
  {
   "cell_type": "markdown",
   "id": "9a0aa6c9-73f0-4abb-a0ff-46d1133f3753",
   "metadata": {},
   "source": [
    "5.3.1. Features with speical care to deal with null values"
   ]
  },
  {
   "cell_type": "markdown",
   "id": "a892cdb9-4af3-4210-aee8-ccac01c3135e",
   "metadata": {},
   "source": [
    "- home_ownership\t51959\t15.327636\n",
    "- loan_grade\t51866\t15.300201\n",
    "- loan_subgrade\t51866\t15.300201\n",
    "- income_annual\t51751\t15.266277\n",
    "- job_title\t20256\t5.975415\n",
    "- tenure\t14794\t4.364153\n",
    "- revolving_rate\t224\t0.066079\n",
    "- loan_title\t16\t0.004720"
   ]
  },
  {
   "cell_type": "markdown",
   "id": "4d1d16ba-142e-4fa2-9302-b16ef1337f6a",
   "metadata": {},
   "source": [
    "5.3.2. Null value management tips from ChatGPT"
   ]
  },
  {
   "cell_type": "markdown",
   "id": "1b91fc52-1699-44a4-b8a4-b68f736caa1d",
   "metadata": {},
   "source": [
    "- Imputation: You can impute the missing values in the feature using various statistical methods, such as mean imputation, median imputation, or multiple imputation. This option can be reasonable if the missing values are missing at random and the imputed values are likely to be similar to the true values.\n",
    "- Exclusion: Another option is to simply exclude the feature from your analysis, especially if the feature is not critical to your analysis and removing it will not greatly impact your results.\n",
    "- Model-based imputation: You could also use predictive modeling to impute the missing values in the feature based on the values of other features in your dataset. For example, you could build a regression model to predict the missing values based on the values of other features. This option can be reasonable if you have a good understanding of the relationships between the features in your dataset.\n",
    "- Interpolation: If the missing values are missing at random, you can also use interpolation methods to impute the missing values based on the values of the nearby observations. This option is particularly useful for time-series data, where you can use the values of previous or subsequent observations to impute the missing values."
   ]
  },
  {
   "cell_type": "markdown",
   "id": "2f601da2-c593-4948-b68b-ee93ba10403e",
   "metadata": {},
   "source": [
    "5.3. Take a look at each column and examine values. Perform necessary transformation to increase prediction power."
   ]
  },
  {
   "cell_type": "raw",
   "id": "6f3f658c-1304-414f-a64e-cac7131aa7cf",
   "metadata": {},
   "source": [
    "# This code below can be used to print all the unique values from all features in the data set\n",
    "for column in df.columns:\n",
    "        print(f'{column}: {df[column].unique()}')"
   ]
  },
  {
   "cell_type": "code",
   "execution_count": 11,
   "id": "fb6d021a-8e30-43b8-a98e-a4f1efff5797",
   "metadata": {},
   "outputs": [
    {
     "data": {
      "text/html": [
       "<div>\n",
       "<style scoped>\n",
       "    .dataframe tbody tr th:only-of-type {\n",
       "        vertical-align: middle;\n",
       "    }\n",
       "\n",
       "    .dataframe tbody tr th {\n",
       "        vertical-align: top;\n",
       "    }\n",
       "\n",
       "    .dataframe thead th {\n",
       "        text-align: right;\n",
       "    }\n",
       "</style>\n",
       "<table border=\"1\" class=\"dataframe\">\n",
       "  <thead>\n",
       "    <tr style=\"text-align: right;\">\n",
       "      <th></th>\n",
       "      <th>interest_rate</th>\n",
       "      <th>id_loan</th>\n",
       "      <th>id_borrower</th>\n",
       "      <th>loan_requested</th>\n",
       "      <th>loan_funded</th>\n",
       "      <th>loan_investor</th>\n",
       "      <th>due</th>\n",
       "      <th>loan_grade</th>\n",
       "      <th>loan_subgrade</th>\n",
       "      <th>job_title</th>\n",
       "      <th>tenure</th>\n",
       "      <th>home_ownership</th>\n",
       "      <th>income_annual</th>\n",
       "      <th>income_verified</th>\n",
       "      <th>loan_date</th>\n",
       "      <th>loan_category</th>\n",
       "      <th>loan_title</th>\n",
       "      <th>zip</th>\n",
       "      <th>state</th>\n",
       "      <th>debt_to_income</th>\n",
       "      <th>past_due_number</th>\n",
       "      <th>credit_open_date</th>\n",
       "      <th>inquiry</th>\n",
       "      <th>credit_open_number</th>\n",
       "      <th>pr_number</th>\n",
       "      <th>revolving</th>\n",
       "      <th>revolving_rate</th>\n",
       "      <th>credit_all_number</th>\n",
       "      <th>loan_status</th>\n",
       "    </tr>\n",
       "  </thead>\n",
       "  <tbody>\n",
       "    <tr>\n",
       "      <th>0</th>\n",
       "      <td>11.89%</td>\n",
       "      <td>54734.0</td>\n",
       "      <td>80364.0</td>\n",
       "      <td>$25,000</td>\n",
       "      <td>$25,000</td>\n",
       "      <td>$19,080</td>\n",
       "      <td>36 months</td>\n",
       "      <td>B</td>\n",
       "      <td>B4</td>\n",
       "      <td>NaN</td>\n",
       "      <td>&lt; 1 year</td>\n",
       "      <td>RENT</td>\n",
       "      <td>85000.0</td>\n",
       "      <td>VERIFIED - income</td>\n",
       "      <td>Aug-09</td>\n",
       "      <td>debt_consolidation</td>\n",
       "      <td>Debt consolidation for on-time payer</td>\n",
       "      <td>941xx</td>\n",
       "      <td>CA</td>\n",
       "      <td>19.48</td>\n",
       "      <td>0.0</td>\n",
       "      <td>Feb-94</td>\n",
       "      <td>0.0</td>\n",
       "      <td>10.0</td>\n",
       "      <td>0.0</td>\n",
       "      <td>28854.0</td>\n",
       "      <td>52.10%</td>\n",
       "      <td>42.0</td>\n",
       "      <td>f</td>\n",
       "    </tr>\n",
       "    <tr>\n",
       "      <th>1</th>\n",
       "      <td>10.71%</td>\n",
       "      <td>55742.0</td>\n",
       "      <td>114426.0</td>\n",
       "      <td>$7,000</td>\n",
       "      <td>$7,000</td>\n",
       "      <td>$673</td>\n",
       "      <td>36 months</td>\n",
       "      <td>B</td>\n",
       "      <td>B5</td>\n",
       "      <td>CNN</td>\n",
       "      <td>&lt; 1 year</td>\n",
       "      <td>RENT</td>\n",
       "      <td>65000.0</td>\n",
       "      <td>not verified</td>\n",
       "      <td>May-08</td>\n",
       "      <td>credit_card</td>\n",
       "      <td>Credit Card payoff</td>\n",
       "      <td>112xx</td>\n",
       "      <td>NY</td>\n",
       "      <td>14.29</td>\n",
       "      <td>0.0</td>\n",
       "      <td>Oct-00</td>\n",
       "      <td>0.0</td>\n",
       "      <td>7.0</td>\n",
       "      <td>0.0</td>\n",
       "      <td>33623.0</td>\n",
       "      <td>76.70%</td>\n",
       "      <td>7.0</td>\n",
       "      <td>f</td>\n",
       "    </tr>\n",
       "    <tr>\n",
       "      <th>2</th>\n",
       "      <td>16.99%</td>\n",
       "      <td>57167.0</td>\n",
       "      <td>137225.0</td>\n",
       "      <td>$25,000</td>\n",
       "      <td>$25,000</td>\n",
       "      <td>$24,725</td>\n",
       "      <td>36 months</td>\n",
       "      <td>D</td>\n",
       "      <td>D3</td>\n",
       "      <td>Web Programmer</td>\n",
       "      <td>1 year</td>\n",
       "      <td>RENT</td>\n",
       "      <td>70000.0</td>\n",
       "      <td>VERIFIED - income</td>\n",
       "      <td>Aug-14</td>\n",
       "      <td>debt_consolidation</td>\n",
       "      <td>mlue</td>\n",
       "      <td>100xx</td>\n",
       "      <td>NY</td>\n",
       "      <td>10.50</td>\n",
       "      <td>0.0</td>\n",
       "      <td>Jun-00</td>\n",
       "      <td>0.0</td>\n",
       "      <td>10.0</td>\n",
       "      <td>0.0</td>\n",
       "      <td>19878.0</td>\n",
       "      <td>66.30%</td>\n",
       "      <td>17.0</td>\n",
       "      <td>f</td>\n",
       "    </tr>\n",
       "    <tr>\n",
       "      <th>3</th>\n",
       "      <td>13.11%</td>\n",
       "      <td>57245.0</td>\n",
       "      <td>138150.0</td>\n",
       "      <td>$1,200</td>\n",
       "      <td>$1,200</td>\n",
       "      <td>$1,200</td>\n",
       "      <td>36 months</td>\n",
       "      <td>C</td>\n",
       "      <td>C2</td>\n",
       "      <td>city of beaumont texas</td>\n",
       "      <td>10+ years</td>\n",
       "      <td>OWN</td>\n",
       "      <td>54000.0</td>\n",
       "      <td>not verified</td>\n",
       "      <td>Mar-10</td>\n",
       "      <td>debt_consolidation</td>\n",
       "      <td>zxcvb</td>\n",
       "      <td>777xx</td>\n",
       "      <td>TX</td>\n",
       "      <td>5.47</td>\n",
       "      <td>0.0</td>\n",
       "      <td>Jan-85</td>\n",
       "      <td>0.0</td>\n",
       "      <td>5.0</td>\n",
       "      <td>0.0</td>\n",
       "      <td>2584.0</td>\n",
       "      <td>40.40%</td>\n",
       "      <td>31.0</td>\n",
       "      <td>f</td>\n",
       "    </tr>\n",
       "    <tr>\n",
       "      <th>4</th>\n",
       "      <td>13.57%</td>\n",
       "      <td>57416.0</td>\n",
       "      <td>139635.0</td>\n",
       "      <td>$10,800</td>\n",
       "      <td>$10,800</td>\n",
       "      <td>$10,692</td>\n",
       "      <td>36 months</td>\n",
       "      <td>C</td>\n",
       "      <td>C3</td>\n",
       "      <td>State Farm Insurance</td>\n",
       "      <td>6 years</td>\n",
       "      <td>RENT</td>\n",
       "      <td>32000.0</td>\n",
       "      <td>not verified</td>\n",
       "      <td>Nov-09</td>\n",
       "      <td>debt_consolidation</td>\n",
       "      <td>Nicolechr1978</td>\n",
       "      <td>067xx</td>\n",
       "      <td>CT</td>\n",
       "      <td>11.63</td>\n",
       "      <td>0.0</td>\n",
       "      <td>Dec-96</td>\n",
       "      <td>1.0</td>\n",
       "      <td>14.0</td>\n",
       "      <td>0.0</td>\n",
       "      <td>3511.0</td>\n",
       "      <td>25.60%</td>\n",
       "      <td>40.0</td>\n",
       "      <td>f</td>\n",
       "    </tr>\n",
       "  </tbody>\n",
       "</table>\n",
       "</div>"
      ],
      "text/plain": [
       "  interest_rate  id_loan  id_borrower loan_requested loan_funded  \\\n",
       "0        11.89%  54734.0      80364.0        $25,000     $25,000   \n",
       "1        10.71%  55742.0     114426.0         $7,000      $7,000   \n",
       "2        16.99%  57167.0     137225.0        $25,000     $25,000   \n",
       "3        13.11%  57245.0     138150.0         $1,200      $1,200   \n",
       "4        13.57%  57416.0     139635.0        $10,800     $10,800   \n",
       "\n",
       "  loan_investor         due loan_grade loan_subgrade               job_title  \\\n",
       "0       $19,080   36 months          B            B4                     NaN   \n",
       "1          $673   36 months          B            B5                     CNN   \n",
       "2       $24,725   36 months          D            D3          Web Programmer   \n",
       "3        $1,200   36 months          C            C2  city of beaumont texas   \n",
       "4       $10,692   36 months          C            C3    State Farm Insurance   \n",
       "\n",
       "      tenure home_ownership  income_annual    income_verified loan_date  \\\n",
       "0   < 1 year           RENT        85000.0  VERIFIED - income    Aug-09   \n",
       "1   < 1 year           RENT        65000.0       not verified    May-08   \n",
       "2     1 year           RENT        70000.0  VERIFIED - income    Aug-14   \n",
       "3  10+ years            OWN        54000.0       not verified    Mar-10   \n",
       "4    6 years           RENT        32000.0       not verified    Nov-09   \n",
       "\n",
       "        loan_category                            loan_title    zip state  \\\n",
       "0  debt_consolidation  Debt consolidation for on-time payer  941xx    CA   \n",
       "1         credit_card                    Credit Card payoff  112xx    NY   \n",
       "2  debt_consolidation                                  mlue  100xx    NY   \n",
       "3  debt_consolidation                                 zxcvb  777xx    TX   \n",
       "4  debt_consolidation                         Nicolechr1978  067xx    CT   \n",
       "\n",
       "   debt_to_income  past_due_number credit_open_date  inquiry  \\\n",
       "0           19.48              0.0           Feb-94      0.0   \n",
       "1           14.29              0.0           Oct-00      0.0   \n",
       "2           10.50              0.0           Jun-00      0.0   \n",
       "3            5.47              0.0           Jan-85      0.0   \n",
       "4           11.63              0.0           Dec-96      1.0   \n",
       "\n",
       "   credit_open_number  pr_number  revolving revolving_rate  credit_all_number  \\\n",
       "0                10.0        0.0    28854.0         52.10%               42.0   \n",
       "1                 7.0        0.0    33623.0         76.70%                7.0   \n",
       "2                10.0        0.0    19878.0         66.30%               17.0   \n",
       "3                 5.0        0.0     2584.0         40.40%               31.0   \n",
       "4                14.0        0.0     3511.0         25.60%               40.0   \n",
       "\n",
       "  loan_status  \n",
       "0           f  \n",
       "1           f  \n",
       "2           f  \n",
       "3           f  \n",
       "4           f  "
      ]
     },
     "execution_count": 11,
     "metadata": {},
     "output_type": "execute_result"
    }
   ],
   "source": [
    "pd.options.display.max_columns = None\n",
    "df.head()"
   ]
  },
  {
   "cell_type": "markdown",
   "id": "26f440ad-dcc4-432e-90ca-98dcfc338f21",
   "metadata": {},
   "source": [
    "- id_loan and id_borrower are surrogate keys and they have no predicting power: we will drop them"
   ]
  },
  {
   "cell_type": "code",
   "execution_count": 12,
   "id": "9ae1c1cf-7235-4896-81b3-444325a41731",
   "metadata": {},
   "outputs": [
    {
     "data": {
      "text/plain": [
       "27"
      ]
     },
     "execution_count": 12,
     "metadata": {},
     "output_type": "execute_result"
    }
   ],
   "source": [
    "# 2. Apply to the testing data set \n",
    "\n",
    "cols = ['id_loan', 'id_borrower']\n",
    "df = df.drop(cols, axis = 1)\n",
    "len(df.columns)"
   ]
  },
  {
   "cell_type": "markdown",
   "id": "7ed6ca3d-5bb7-4cf6-8288-917a4c907251",
   "metadata": {},
   "source": [
    "- 'loan_requested', 'loan_funded', 'loan_investor' contain unnecessary sings($ and ,) so we will remove them\n",
    "- The current dtype is object and we will change it into float "
   ]
  },
  {
   "cell_type": "code",
   "execution_count": 13,
   "id": "6b066019-a1c7-41fc-a654-b742c7241192",
   "metadata": {},
   "outputs": [
    {
     "data": {
      "text/html": [
       "<div>\n",
       "<style scoped>\n",
       "    .dataframe tbody tr th:only-of-type {\n",
       "        vertical-align: middle;\n",
       "    }\n",
       "\n",
       "    .dataframe tbody tr th {\n",
       "        vertical-align: top;\n",
       "    }\n",
       "\n",
       "    .dataframe thead th {\n",
       "        text-align: right;\n",
       "    }\n",
       "</style>\n",
       "<table border=\"1\" class=\"dataframe\">\n",
       "  <thead>\n",
       "    <tr style=\"text-align: right;\">\n",
       "      <th></th>\n",
       "      <th>loan_requested</th>\n",
       "      <th>loan_funded</th>\n",
       "      <th>loan_investor</th>\n",
       "    </tr>\n",
       "  </thead>\n",
       "  <tbody>\n",
       "    <tr>\n",
       "      <th>0</th>\n",
       "      <td>25000.0</td>\n",
       "      <td>25000.0</td>\n",
       "      <td>19080.0</td>\n",
       "    </tr>\n",
       "    <tr>\n",
       "      <th>1</th>\n",
       "      <td>7000.0</td>\n",
       "      <td>7000.0</td>\n",
       "      <td>673.0</td>\n",
       "    </tr>\n",
       "    <tr>\n",
       "      <th>2</th>\n",
       "      <td>25000.0</td>\n",
       "      <td>25000.0</td>\n",
       "      <td>24725.0</td>\n",
       "    </tr>\n",
       "    <tr>\n",
       "      <th>3</th>\n",
       "      <td>1200.0</td>\n",
       "      <td>1200.0</td>\n",
       "      <td>1200.0</td>\n",
       "    </tr>\n",
       "    <tr>\n",
       "      <th>4</th>\n",
       "      <td>10800.0</td>\n",
       "      <td>10800.0</td>\n",
       "      <td>10692.0</td>\n",
       "    </tr>\n",
       "  </tbody>\n",
       "</table>\n",
       "</div>"
      ],
      "text/plain": [
       "   loan_requested  loan_funded  loan_investor\n",
       "0         25000.0      25000.0        19080.0\n",
       "1          7000.0       7000.0          673.0\n",
       "2         25000.0      25000.0        24725.0\n",
       "3          1200.0       1200.0         1200.0\n",
       "4         10800.0      10800.0        10692.0"
      ]
     },
     "execution_count": 13,
     "metadata": {},
     "output_type": "execute_result"
    }
   ],
   "source": [
    "# 3. Apply to the testing data set \n",
    "\n",
    "cols = ['loan_requested', 'loan_funded', 'loan_investor']\n",
    "\n",
    "df[cols] = df[cols].astype(str)\n",
    "df[cols] = df[cols].applymap(lambda x: x.replace('$', '').replace(',', ''))\n",
    "df[cols] = df[cols].astype(float)\n",
    "\n",
    "df[cols].head()"
   ]
  },
  {
   "cell_type": "markdown",
   "id": "3b781761-4c39-4ed5-9849-c55b6ca5f084",
   "metadata": {},
   "source": [
    "- Using the same method above, remove % sign and change the data type into float"
   ]
  },
  {
   "cell_type": "code",
   "execution_count": 14,
   "id": "133c6fa8-be68-42a0-b702-2129ac9d86c9",
   "metadata": {},
   "outputs": [
    {
     "data": {
      "text/html": [
       "<div>\n",
       "<style scoped>\n",
       "    .dataframe tbody tr th:only-of-type {\n",
       "        vertical-align: middle;\n",
       "    }\n",
       "\n",
       "    .dataframe tbody tr th {\n",
       "        vertical-align: top;\n",
       "    }\n",
       "\n",
       "    .dataframe thead th {\n",
       "        text-align: right;\n",
       "    }\n",
       "</style>\n",
       "<table border=\"1\" class=\"dataframe\">\n",
       "  <thead>\n",
       "    <tr style=\"text-align: right;\">\n",
       "      <th></th>\n",
       "      <th>revolving_rate</th>\n",
       "      <th>interest_rate</th>\n",
       "    </tr>\n",
       "  </thead>\n",
       "  <tbody>\n",
       "    <tr>\n",
       "      <th>0</th>\n",
       "      <td>52.1</td>\n",
       "      <td>11.89</td>\n",
       "    </tr>\n",
       "    <tr>\n",
       "      <th>1</th>\n",
       "      <td>76.7</td>\n",
       "      <td>10.71</td>\n",
       "    </tr>\n",
       "    <tr>\n",
       "      <th>2</th>\n",
       "      <td>66.3</td>\n",
       "      <td>16.99</td>\n",
       "    </tr>\n",
       "    <tr>\n",
       "      <th>3</th>\n",
       "      <td>40.4</td>\n",
       "      <td>13.11</td>\n",
       "    </tr>\n",
       "    <tr>\n",
       "      <th>4</th>\n",
       "      <td>25.6</td>\n",
       "      <td>13.57</td>\n",
       "    </tr>\n",
       "  </tbody>\n",
       "</table>\n",
       "</div>"
      ],
      "text/plain": [
       "   revolving_rate  interest_rate\n",
       "0            52.1          11.89\n",
       "1            76.7          10.71\n",
       "2            66.3          16.99\n",
       "3            40.4          13.11\n",
       "4            25.6          13.57"
      ]
     },
     "execution_count": 14,
     "metadata": {},
     "output_type": "execute_result"
    }
   ],
   "source": [
    "# 4. Apply to the testing data set \n",
    "\n",
    "cols = ['revolving_rate', 'interest_rate']\n",
    "\n",
    "df[cols] = df[cols].astype(str)\n",
    "df[cols] = df[cols].applymap(lambda x: x.replace('%', ''))\n",
    "df[cols] = df[cols].astype(float)\n",
    "\n",
    "df[cols].head()"
   ]
  },
  {
   "cell_type": "markdown",
   "id": "8f1d9280-caf3-4ef7-9885-ca41fae7c8a1",
   "metadata": {},
   "source": [
    "- feature: 'loan_grade' has 7 values and null values should be filled under the 7 values.\n",
    "- feature: 'loan_subgrade' is a subcategory for 'loan_grade'. The detail is hard to infer and it will increase model's complexity significantly, so we will drop the column"
   ]
  },
  {
   "cell_type": "code",
   "execution_count": 15,
   "id": "214fbae0-8cdc-4f65-840d-777de8bf6c81",
   "metadata": {},
   "outputs": [
    {
     "data": {
      "text/plain": [
       "array(['B', 'D', 'C', 'A', 'E', 'F', nan, 'G'], dtype=object)"
      ]
     },
     "execution_count": 15,
     "metadata": {},
     "output_type": "execute_result"
    }
   ],
   "source": [
    "df['loan_grade'].unique()"
   ]
  },
  {
   "cell_type": "code",
   "execution_count": 16,
   "id": "b00dcf48-94bd-4831-9a2b-8c1763c59c45",
   "metadata": {},
   "outputs": [
    {
     "data": {
      "text/plain": [
       "array(['B4', 'B5', 'D3', 'C2', 'C3', 'D4', 'B3', 'C5', 'A5', 'D2', 'B1',\n",
       "       'C4', 'A4', 'A3', 'C1', 'E4', 'B2', 'A2', 'E2', 'E1', 'D1', 'F1',\n",
       "       'F2', 'A1', 'F3', 'E5', 'D5', nan, 'E3', 'F4', 'G5', 'F5', 'G1',\n",
       "       'G4', 'G3', 'G2'], dtype=object)"
      ]
     },
     "execution_count": 16,
     "metadata": {},
     "output_type": "execute_result"
    }
   ],
   "source": [
    "df['loan_subgrade'].unique()"
   ]
  },
  {
   "cell_type": "code",
   "execution_count": 17,
   "id": "d4711dee-d709-4735-9375-46d6a36358d6",
   "metadata": {},
   "outputs": [],
   "source": [
    "# 5. Apply to the testing data set \n",
    "df = df.drop('loan_subgrade', axis = 1)"
   ]
  },
  {
   "cell_type": "markdown",
   "id": "c3ef9f41-885a-42f0-83bd-db1d4c2266e8",
   "metadata": {},
   "source": [
    "- 'due' can be used as a categorical variable: due in 36 months(shorter) or 60 months(longer)\n",
    "- change the text shorter and simpler for analytical convenience"
   ]
  },
  {
   "cell_type": "code",
   "execution_count": 18,
   "id": "e349ace3-db06-40a6-8848-b7e65526abe2",
   "metadata": {},
   "outputs": [
    {
     "data": {
      "text/plain": [
       "array([' 36 months', ' 60 months'], dtype=object)"
      ]
     },
     "execution_count": 18,
     "metadata": {},
     "output_type": "execute_result"
    }
   ],
   "source": [
    "df['due'].unique()"
   ]
  },
  {
   "cell_type": "code",
   "execution_count": 19,
   "id": "39c223d6-0f24-4b3b-9f79-0664c5ee7146",
   "metadata": {},
   "outputs": [],
   "source": [
    "# 6. Apply to the testing data set \n",
    "df['due'] = np.where(df['due'] == ' 36 months', '36M', '60M')"
   ]
  },
  {
   "cell_type": "code",
   "execution_count": 20,
   "id": "e163ff9e-528a-447c-a4f0-80bd30052b2d",
   "metadata": {},
   "outputs": [
    {
     "data": {
      "text/plain": [
       "array(['36M', '60M'], dtype=object)"
      ]
     },
     "execution_count": 20,
     "metadata": {},
     "output_type": "execute_result"
    }
   ],
   "source": [
    "df['due'].unique()"
   ]
  },
  {
   "cell_type": "markdown",
   "id": "f24800df-3bc3-4620-a05a-f7e0e870e4bf",
   "metadata": {},
   "source": [
    "- We drop feature:'job_title' because it's too complex to use as a categorical variable"
   ]
  },
  {
   "cell_type": "code",
   "execution_count": 21,
   "id": "2bbff1da-2586-4de6-9628-ace0f9dee9ec",
   "metadata": {},
   "outputs": [
    {
     "data": {
      "text/plain": [
       "0.48200974072905023"
      ]
     },
     "execution_count": 21,
     "metadata": {},
     "output_type": "execute_result"
    }
   ],
   "source": [
    "len(df['job_title'].unique()) / len(df)"
   ]
  },
  {
   "cell_type": "code",
   "execution_count": 22,
   "id": "305b905a-b54b-4816-b49a-2e7cc0544aff",
   "metadata": {},
   "outputs": [
    {
     "data": {
      "text/plain": [
       "25"
      ]
     },
     "execution_count": 22,
     "metadata": {},
     "output_type": "execute_result"
    }
   ],
   "source": [
    "# 7. Apply to the testing data set \n",
    "df = df.drop('job_title', axis = 1)\n",
    "len(df.columns)"
   ]
  },
  {
   "cell_type": "markdown",
   "id": "c651bea0-1f0b-4c97-8ead-82a50d4817fd",
   "metadata": {},
   "source": [
    "- For feature:'tenure', we will use a lower level of values for the analyis\n",
    "- To do so, regroup 'tenure' with 5-year interval"
   ]
  },
  {
   "cell_type": "code",
   "execution_count": 23,
   "id": "0338ff69-47ac-4d54-8d8a-ce3ecc11f3c8",
   "metadata": {},
   "outputs": [
    {
     "data": {
      "text/plain": [
       "array(['< 1 year', '1 year', '10+ years', '6 years', '9 years', '3 years',\n",
       "       '5 years', '2 years', '4 years', '8 years', '7 years', nan],\n",
       "      dtype=object)"
      ]
     },
     "execution_count": 23,
     "metadata": {},
     "output_type": "execute_result"
    }
   ],
   "source": [
    "df['tenure'].unique()"
   ]
  },
  {
   "cell_type": "code",
   "execution_count": 24,
   "id": "f1279e1d-dea1-40d1-a9a8-989edc3e8f22",
   "metadata": {},
   "outputs": [
    {
     "data": {
      "text/plain": [
       "array(['_5Y', '10Y_', '5_9Y'], dtype=object)"
      ]
     },
     "execution_count": 24,
     "metadata": {},
     "output_type": "execute_result"
    }
   ],
   "source": [
    "# 8. Apply to the testing data set \n",
    "bambino = ['< 1 year', '1 year', '2 years', '3 years', '4 years']\n",
    "pro = ['5 years', '6 years', '7 years', '8 years', '9 years']\n",
    "veteran = ['10+ years']\n",
    "\n",
    "df['tenure_cat'] = np.where(df['tenure'].isin(bambino), '_5Y', np.where(df['tenure'].isin(pro), '5_9Y', '10Y_') )\n",
    "df['tenure_cat'].unique()"
   ]
  },
  {
   "cell_type": "markdown",
   "id": "f5698fa0-9d93-4c77-8b2e-27892ebf9e33",
   "metadata": {},
   "source": [
    "- Now, we will fill the null values according to the credit_card_open date\n",
    "- We assumed that most of the borrowers opened their first credit line when being employed for the first time, which corrsponds to tenure"
   ]
  },
  {
   "cell_type": "code",
   "execution_count": 25,
   "id": "7b118c14-4192-4954-a203-33618732f868",
   "metadata": {},
   "outputs": [
    {
     "data": {
      "text/plain": [
       "14794"
      ]
     },
     "execution_count": 25,
     "metadata": {},
     "output_type": "execute_result"
    }
   ],
   "source": [
    "df['tenure'].isnull().sum()"
   ]
  },
  {
   "cell_type": "code",
   "execution_count": 26,
   "id": "43053755-6cfd-4f3b-bdf3-01f84cf4dc6b",
   "metadata": {},
   "outputs": [],
   "source": [
    "# 9. Apply to the testing data set \n",
    "df['credit_open_year'] = df['credit_open_date'].str[-2:]\n",
    "df['credit_open_year'] = df['credit_open_year'].astype(int)\n",
    "year_list = df['credit_open_year'].copy().to_list()"
   ]
  },
  {
   "cell_type": "code",
   "execution_count": 27,
   "id": "a1d4b009-63a2-43a3-affd-c1968e87e699",
   "metadata": {},
   "outputs": [],
   "source": [
    "# 10. Apply to the testing data set \n",
    "year = []\n",
    "\n",
    "for y in year_list:\n",
    "    if y < 20:\n",
    "        y = y + 2000\n",
    "    else: \n",
    "        y = y + 1900\n",
    "    year.append(y)"
   ]
  },
  {
   "cell_type": "code",
   "execution_count": 28,
   "id": "a3372ce2-73d9-4f98-8e55-9c05c453e07d",
   "metadata": {},
   "outputs": [],
   "source": [
    "# 10. Apply to the testing data set \n",
    "# Be aware of overwriting problems \n",
    "df['credit_open_year'] = year\n",
    "df['credit_open_year'] = df['credit_open_year'].astype(int)"
   ]
  },
  {
   "cell_type": "code",
   "execution_count": 29,
   "id": "38ac7245-0f0e-4638-8aa7-060833543db0",
   "metadata": {},
   "outputs": [],
   "source": [
    "# 11. Apply to the testing data set \n",
    "df = df.drop('credit_open_date', axis = 1)"
   ]
  },
  {
   "cell_type": "code",
   "execution_count": 30,
   "id": "f3393ac7-e536-4eff-9fc2-bb3d4759deef",
   "metadata": {},
   "outputs": [
    {
     "data": {
      "text/plain": [
       "count    338989.000000\n",
       "mean       1997.174433\n",
       "std           7.190159\n",
       "min        1944.000000\n",
       "25%        1994.000000\n",
       "50%        1999.000000\n",
       "75%        2002.000000\n",
       "max        2011.000000\n",
       "Name: credit_open_year, dtype: float64"
      ]
     },
     "execution_count": 30,
     "metadata": {},
     "output_type": "execute_result"
    }
   ],
   "source": [
    "df['credit_open_year'].describe()"
   ]
  },
  {
   "cell_type": "markdown",
   "id": "87db0b10-8514-4751-a695-bb5b1252bcf9",
   "metadata": {},
   "source": [
    "- We assumed that the cuurent year as of 2013, because it's the maximum of loan_year and fill the nulls based on this assumption"
   ]
  },
  {
   "cell_type": "code",
   "execution_count": 31,
   "id": "a14f62ed-3fdd-4f6d-b195-e143c156c885",
   "metadata": {},
   "outputs": [],
   "source": [
    "# 12. Apply to the testing data set \n",
    "df.loc[df['tenure_cat'].isnull(), 'tenure_cat'] = np.where(df['credit_open_year'] >= 2009, '_5Y', np.where(df['credit_open_year'] >= 2003, '5_9Y', '10Y_'))"
   ]
  },
  {
   "cell_type": "code",
   "execution_count": 32,
   "id": "27c571ab-d68e-40ba-b1a6-264fa8a203e4",
   "metadata": {},
   "outputs": [],
   "source": [
    "# 13. Apply to the testing data set \n",
    "df = df.drop('tenure', axis = 1)"
   ]
  },
  {
   "cell_type": "markdown",
   "id": "43b3a163-4efb-4ec9-8a41-7dc2d7a0e24c",
   "metadata": {},
   "source": [
    "- Fill na in the feature: 'home_ownership'\n",
    "- Infter as much as possible using features with text: 'loan_category' and 'loan_title'"
   ]
  },
  {
   "cell_type": "code",
   "execution_count": 33,
   "id": "629133cb-cf38-4cb5-a242-92f4448aa056",
   "metadata": {},
   "outputs": [
    {
     "data": {
      "text/plain": [
       "51959"
      ]
     },
     "execution_count": 33,
     "metadata": {},
     "output_type": "execute_result"
    }
   ],
   "source": [
    "df['home_ownership'].isnull().sum()"
   ]
  },
  {
   "cell_type": "markdown",
   "id": "c28fbebc-ba07-4f6b-9c0f-f924dc112a8d",
   "metadata": {},
   "source": [
    "- First, we combine 'Other', 'ANY' into 'Other'"
   ]
  },
  {
   "cell_type": "code",
   "execution_count": 34,
   "id": "85a235ff-f6b0-4e1c-bf69-723625b0f141",
   "metadata": {},
   "outputs": [
    {
     "data": {
      "text/plain": [
       "MORTGAGE    145958\n",
       "RENT        115958\n",
       "OWN          24976\n",
       "OTHER          107\n",
       "NONE            30\n",
       "ANY              1\n",
       "Name: home_ownership, dtype: int64"
      ]
     },
     "execution_count": 34,
     "metadata": {},
     "output_type": "execute_result"
    }
   ],
   "source": [
    "df['home_ownership'].value_counts(ascending = False)"
   ]
  },
  {
   "cell_type": "code",
   "execution_count": 35,
   "id": "ffdfe55f-e980-457e-bef3-ae24180a141e",
   "metadata": {},
   "outputs": [
    {
     "data": {
      "text/plain": [
       "MORTGAGE    145958\n",
       "RENT        115958\n",
       "OWN          24976\n",
       "OTHER          138\n",
       "Name: home_ownership, dtype: int64"
      ]
     },
     "execution_count": 35,
     "metadata": {},
     "output_type": "execute_result"
    }
   ],
   "source": [
    "# 14. Apply to the testing data set \n",
    "mask = (df['home_ownership'] == 'OTHER') | (df['home_ownership'] == 'NONE') | (df['home_ownership'] == 'ANY')\n",
    "\n",
    "df['home_ownership'] = np.where(mask, 'OTHER', df['home_ownership'])\n",
    "df['home_ownership'].value_counts(ascending = False)"
   ]
  },
  {
   "cell_type": "code",
   "execution_count": 36,
   "id": "c84978c2-c0ee-4f2a-a10c-8d466c8ded5c",
   "metadata": {},
   "outputs": [
    {
     "data": {
      "text/plain": [
       "array(['debt_consolidation', 'credit_card', 'car', 'home_improvement',\n",
       "       'small_business', 'major_purchase', 'other', 'house', 'vacation',\n",
       "       'educational', 'moving', 'wedding', 'medical', 'renewable_energy'],\n",
       "      dtype=object)"
      ]
     },
     "execution_count": 36,
     "metadata": {},
     "output_type": "execute_result"
    }
   ],
   "source": [
    "df['loan_category'].unique()"
   ]
  },
  {
   "cell_type": "markdown",
   "id": "982a5c36-b0bc-4fdd-a3e9-75da18e081bf",
   "metadata": {},
   "source": [
    "- It could be either 'MORTGAGE' or 'OWN'\n",
    "- We do not combine the cateogry because those can influence on interest rate. \n",
    "- Considering it takes average 22 year to pay back mortgage, we assume these variables would be more likely 'MORTGAGE'"
   ]
  },
  {
   "cell_type": "code",
   "execution_count": 37,
   "id": "de0745ad-fced-4be9-8b29-8b951564385f",
   "metadata": {},
   "outputs": [
    {
     "data": {
      "text/plain": [
       "0.14019038965866149"
      ]
     },
     "execution_count": 37,
     "metadata": {},
     "output_type": "execute_result"
    }
   ],
   "source": [
    "# 15. Apply to the testing data set \n",
    "mask = df['home_ownership'].isnull() & ((df['loan_category'] == 'house') | (df['loan_category'] == 'major_purchase') | (df['loan_category'] == 'home_improvement') | (df['loan_category'] == 'renewable_energy') )\n",
    "df['home_ownership'] = np.where(mask, 'MORTGAGE', df['home_ownership'])\n",
    "df['home_ownership'].isnull().sum() / len(df)"
   ]
  },
  {
   "cell_type": "code",
   "execution_count": 38,
   "id": "e4ee9ae5-6ec9-4f03-b076-5920dece5760",
   "metadata": {},
   "outputs": [
    {
     "data": {
      "text/plain": [
       "0.13836437170527657"
      ]
     },
     "execution_count": 38,
     "metadata": {},
     "output_type": "execute_result"
    }
   ],
   "source": [
    "# 16. Apply to the testing data set \n",
    "mask = df['home_ownership'].isnull() & ((df['loan_category'] == 'moving') | (df['loan_category'] == 'wedding'))\n",
    "\n",
    "df['home_ownership'] = np.where(mask, 'RENT', df['home_ownership'])\n",
    "df['home_ownership'].isnull().sum() / len(df)"
   ]
  },
  {
   "cell_type": "code",
   "execution_count": 39,
   "id": "6cce5ecb-fa7a-41c1-a4b8-a02f49729e62",
   "metadata": {},
   "outputs": [
    {
     "data": {
      "text/plain": [
       "0.13827882320665272"
      ]
     },
     "execution_count": 39,
     "metadata": {},
     "output_type": "execute_result"
    }
   ],
   "source": [
    "# 17. Apply to the testing data set\n",
    "\n",
    "mask = df['home_ownership'].isnull() & df['loan_title'].str.contains('house' or 'home imporvement' or 'mortgage')\n",
    "# Later, we can add more words to filtr if necessary \n",
    "\n",
    "df['home_ownership'] = np.where(mask, 'MORTGAGE', df['home_ownership'])\n",
    "df['home_ownership'].isnull().sum() / len(df)"
   ]
  },
  {
   "cell_type": "code",
   "execution_count": 40,
   "id": "d2b31182-b687-4b42-a663-66c68f51ced9",
   "metadata": {},
   "outputs": [
    {
     "data": {
      "text/plain": [
       "0.13824637377614024"
      ]
     },
     "execution_count": 40,
     "metadata": {},
     "output_type": "execute_result"
    }
   ],
   "source": [
    "# 18. Apply to the testing data set\n",
    "\n",
    "mask = df['home_ownership'].isnull() & df['loan_title'].str.contains('moving' or 'wedding' or 'rental')\n",
    "# Later, we can add more words to filtr if necessary \n",
    "\n",
    "df['home_ownership'] = np.where(mask, 'RENT', df['home_ownership'])\n",
    "df['home_ownership'].isnull().sum() / len(df)"
   ]
  },
  {
   "cell_type": "code",
   "execution_count": 41,
   "id": "bfe2fb4e-4a2b-4ef8-9d2a-0f3e05598c20",
   "metadata": {},
   "outputs": [],
   "source": [
    "# 19. Apply to the testing data set\n",
    "\n",
    "df = df.drop('loan_title', axis = 1)"
   ]
  },
  {
   "cell_type": "markdown",
   "id": "1020a625-5ff2-4d4a-84de-72e6a1831add",
   "metadata": {},
   "source": [
    "- We faced limitation to fill the null in the 'home_ownerhip' feature and further steps are necessary."
   ]
  },
  {
   "cell_type": "markdown",
   "id": "16a08039-69d0-4473-948d-cff0fb0debbf",
   "metadata": {},
   "source": [
    "- Simplify text values in the feature:'income_verified' to use it as a categorical variable"
   ]
  },
  {
   "cell_type": "code",
   "execution_count": 42,
   "id": "79ccfa36-0bba-49ef-829d-bfab93881755",
   "metadata": {},
   "outputs": [
    {
     "data": {
      "text/plain": [
       "array(['VERIFIED - income', 'not verified', 'VERIFIED - income source'],\n",
       "      dtype=object)"
      ]
     },
     "execution_count": 42,
     "metadata": {},
     "output_type": "execute_result"
    }
   ],
   "source": [
    "df['income_verified'].unique()"
   ]
  },
  {
   "cell_type": "code",
   "execution_count": 43,
   "id": "049be257-f9ae-43cf-8add-339636b78330",
   "metadata": {},
   "outputs": [],
   "source": [
    "# 20. Apply to the testing data set\n",
    "df['income_verified'] = np.where(df['income_verified'] == 'VERIFIED - income', 'Income', np.where(df['income_verified'] == 'VERIFIED - income source', 'Source', 'No'))"
   ]
  },
  {
   "cell_type": "code",
   "execution_count": 44,
   "id": "4be1d30b-84b3-46c9-8058-a82a55dd09e6",
   "metadata": {},
   "outputs": [
    {
     "data": {
      "text/plain": [
       "array(['Income', 'No', 'Source'], dtype=object)"
      ]
     },
     "execution_count": 44,
     "metadata": {},
     "output_type": "execute_result"
    }
   ],
   "source": [
    "df['income_verified'].unique()"
   ]
  },
  {
   "cell_type": "markdown",
   "id": "356a42b3-2f34-44b3-bf99-3399d11c5c38",
   "metadata": {},
   "source": [
    "- loan_date might be reaplced with the year the loan was accepted\n",
    "- then, the original column will be removed to reduce duplicity and we will not use month for analysis"
   ]
  },
  {
   "cell_type": "code",
   "execution_count": 45,
   "id": "c0e372b6-ba51-4323-8c11-41a2c5831dc2",
   "metadata": {},
   "outputs": [],
   "source": [
    "# 21. Apply to the testing data set\n",
    "df['loan_year'] = df['loan_date'].str[-2:]\n",
    "df['loan_year'] = '20' + df['loan_year']\n",
    "df['loan_year'] = df['loan_year'].astype(int)"
   ]
  },
  {
   "cell_type": "code",
   "execution_count": 46,
   "id": "32a53f8c-ae3c-4bd7-9d66-06159587a402",
   "metadata": {},
   "outputs": [
    {
     "data": {
      "text/plain": [
       "24"
      ]
     },
     "execution_count": 46,
     "metadata": {},
     "output_type": "execute_result"
    }
   ],
   "source": [
    "# 22. Apply to the testing data set\n",
    "df = df.drop('loan_date', axis = 1)\n",
    "len(df.columns)"
   ]
  },
  {
   "cell_type": "code",
   "execution_count": 47,
   "id": "33670b89-96b0-4455-a98b-9ab07f5ec8df",
   "metadata": {},
   "outputs": [
    {
     "data": {
      "text/plain": [
       "array([2009, 2008, 2014, 2010, 2012, 2007, 2011, 2013])"
      ]
     },
     "execution_count": 47,
     "metadata": {},
     "output_type": "execute_result"
    }
   ],
   "source": [
    "df['loan_year'].unique()"
   ]
  },
  {
   "cell_type": "markdown",
   "id": "8b2c6e7a-c4be-4047-a240-9a17fca41b0e",
   "metadata": {},
   "source": [
    "- zip codes are unique across the US and can be a useful predictor\n",
    "- However, feature:'zip' is a categorical variables and there are around 900 unique values \n",
    "- To use this variable, more in-depth data manipulation will be necessary \n",
    "- Therefore, it'd better to use state insted"
   ]
  },
  {
   "cell_type": "code",
   "execution_count": 48,
   "id": "621ce561-9e76-405e-9977-2ca7304aa0a9",
   "metadata": {},
   "outputs": [
    {
     "data": {
      "text/plain": [
       "874"
      ]
     },
     "execution_count": 48,
     "metadata": {},
     "output_type": "execute_result"
    }
   ],
   "source": [
    "len(df['zip'].unique())"
   ]
  },
  {
   "cell_type": "code",
   "execution_count": 49,
   "id": "920f1cef-bed5-4656-92ea-ea60329e18be",
   "metadata": {},
   "outputs": [
    {
     "data": {
      "text/plain": [
       "23"
      ]
     },
     "execution_count": 49,
     "metadata": {},
     "output_type": "execute_result"
    }
   ],
   "source": [
    "# 23. Apply to the testing data set\n",
    "df = df.drop('zip', axis = 1)\n",
    "len(df.columns)"
   ]
  },
  {
   "cell_type": "markdown",
   "id": "3f7868b2-54a7-404a-8ae3-202a53624bdf",
   "metadata": {},
   "source": [
    "- However, too many levels exist even in feature: 'state'.\n",
    "- We divide them into 5 regions that have geographical aproximity, instead."
   ]
  },
  {
   "cell_type": "code",
   "execution_count": 50,
   "id": "6460950f-825c-4c0d-9d39-c58a27d1f8bc",
   "metadata": {},
   "outputs": [
    {
     "data": {
      "text/plain": [
       "array(['West', 'Northeast', 'South', 'Mid_Atlantic', 'Midwest'],\n",
       "      dtype=object)"
      ]
     },
     "execution_count": 50,
     "metadata": {},
     "output_type": "execute_result"
    }
   ],
   "source": [
    "# 23. Apply to the testing data set\n",
    "Northeast = ['ME', 'NH', 'VT', 'MA', 'RI', 'CT', 'NY', 'NJ']\n",
    "Mid_Atlantic = ['PA', 'DE', 'MD', 'VA', 'WV', 'DC']\n",
    "South = ['KY', 'TN', 'NC', 'SC', 'GA', 'AL', 'FL', 'MS', 'AR', 'LA', 'TX']\n",
    "Midwest = ['OH', 'IN', 'IL', 'MI', 'WI', 'MN', 'IA', 'MO', 'ND', 'SD', 'NE', 'KS']\n",
    "West = ['MT', 'ID', 'WY', 'CO', 'NM', 'AZ', 'UT', 'NV', 'OR', 'WA', 'CA', 'AK', 'HI']\n",
    "state = df['state'].to_list()\n",
    "regions = []\n",
    "\n",
    "for state_ in state: \n",
    "    if state_ in Northeast:\n",
    "        regions.append('Northeast')\n",
    "    elif state_ in Mid_Atlantic:\n",
    "        regions.append('Mid_Atlantic')\n",
    "    elif state_ in South:\n",
    "        regions.append('South')\n",
    "    elif state_ in Midwest:\n",
    "        regions.append('Midwest')\n",
    "    else:\n",
    "        regions.append('West')\n",
    "        \n",
    "df['region'] = regions\n",
    "df['region'].unique()"
   ]
  },
  {
   "cell_type": "code",
   "execution_count": 51,
   "id": "e12a6b0e-5bae-479b-a0cb-377679ec7172",
   "metadata": {},
   "outputs": [
    {
     "data": {
      "text/plain": [
       "23"
      ]
     },
     "execution_count": 51,
     "metadata": {},
     "output_type": "execute_result"
    }
   ],
   "source": [
    "# 24. Apply to the testing data set\n",
    "df = df.drop('state', axis = 1)\n",
    "len(df.columns)"
   ]
  },
  {
   "cell_type": "markdown",
   "id": "ea6f8e3a-e108-4d1f-91cd-86f9138afe99",
   "metadata": {},
   "source": [
    "- A borrower with zero revolving amount has 0% revolving rate. "
   ]
  },
  {
   "cell_type": "code",
   "execution_count": 52,
   "id": "6ea2bd97-8a6c-4756-aeae-9bba33712b26",
   "metadata": {},
   "outputs": [],
   "source": [
    "# 25. Apply to the testing data set\n",
    "# df[df['revolving_rate'].isnull()]['revolving'].value_counts(ascending = False)\n",
    "df['revolving_rate'] = np.where(df['revolving'] == 0.0, 0.0, df['revolving_rate'])"
   ]
  },
  {
   "cell_type": "markdown",
   "id": "e4d93d20-74ae-4eb2-a0b2-29949361ede6",
   "metadata": {},
   "source": [
    "- Fill the nulls in the feature: 'revolving_rate' \n",
    "- We can use either linear regression or .interpolate() because this feature is a numerical feature\n",
    "- We will use linear regression and will use features that have strong relationship with revolving_rate"
   ]
  },
  {
   "cell_type": "code",
   "execution_count": 53,
   "id": "f1d8cf2e-6995-4d98-8f52-ff10d2013b25",
   "metadata": {},
   "outputs": [
    {
     "data": {
      "text/plain": [
       "<AxesSubplot:>"
      ]
     },
     "execution_count": 53,
     "metadata": {},
     "output_type": "execute_result"
    },
    {
     "data": {
      "image/png": "[encoded data removed]",
      "text/plain": [
       "<Figure size 432x288 with 2 Axes>"
      ]
     },
     "metadata": {
      "needs_background": "light"
     },
     "output_type": "display_data"
    }
   ],
   "source": [
    "sns.heatmap(df.corr()[['revolving_rate']])"
   ]
  },
  {
   "cell_type": "code",
   "execution_count": 54,
   "id": "deca0664-86f7-4fb9-8452-60fd553dc0bd",
   "metadata": {},
   "outputs": [
    {
     "data": {
      "text/plain": [
       "0"
      ]
     },
     "execution_count": 54,
     "metadata": {},
     "output_type": "execute_result"
    }
   ],
   "source": [
    "# 26. Apply to the testing data set\n",
    "    \n",
    "# Prepare the data by removing the rows with missing values in the target variable\n",
    "df_without_missing = df.dropna(subset=['revolving_rate'])\n",
    "X = df_without_missing[['loan_requested', 'loan_funded', 'loan_investor', 'debt_to_income']]\n",
    "y = df_without_missing['revolving_rate']\n",
    "\n",
    "# Train the model\n",
    "reg = LinearRegression().fit(X, y)\n",
    "\n",
    "# Make predictions for the missing values in the target variable\n",
    "X_missing = df[df['revolving_rate'].isna()][['loan_requested', 'loan_funded', 'loan_investor', 'debt_to_income']]\n",
    "y_missing = reg.predict(X_missing)\n",
    "\n",
    "# Fill the missing values in the original data frame\n",
    "df.loc[df['revolving_rate'].isna(), 'revolving_rate'] = y_missing\n",
    "\n",
    "df['revolving_rate'].isnull().sum()"
   ]
  },
  {
   "cell_type": "markdown",
   "id": "9cf5dde9-71db-4855-8cc5-f633bbda749b",
   "metadata": {},
   "source": [
    "- This is the code when use .interpolate()"
   ]
  },
  {
   "cell_type": "raw",
   "id": "681b7d5a-47cd-4fd7-8d6d-ac01d37976d9",
   "metadata": {},
   "source": [
    "df['revolving_rate'] = df['revolving_rate'].interpolate()\n",
    "df['revolving_rate'].isnull().sum()"
   ]
  },
  {
   "cell_type": "markdown",
   "id": "e35a85f5-6b84-4174-914b-90503cdf5689",
   "metadata": {},
   "source": [
    "- Fill the nulls in the feature: 'income_annual' \n",
    "- We can use either linear regression or .interpolate() because this feature is a numerical feature\n",
    "- We will use linear regression and will use features that have strong relationship with annual income"
   ]
  },
  {
   "cell_type": "code",
   "execution_count": 55,
   "id": "ddcf5d11-6832-4769-bbbd-581778ff5a91",
   "metadata": {},
   "outputs": [
    {
     "data": {
      "text/plain": [
       "<AxesSubplot:>"
      ]
     },
     "execution_count": 55,
     "metadata": {},
     "output_type": "execute_result"
    },
    {
     "data": {
      "image/png": "[encoded data removed]",
      "text/plain": [
       "<Figure size 432x288 with 2 Axes>"
      ]
     },
     "metadata": {
      "needs_background": "light"
     },
     "output_type": "display_data"
    }
   ],
   "source": [
    "sns.heatmap(df.corr()[['income_annual']])"
   ]
  },
  {
   "cell_type": "code",
   "execution_count": 56,
   "id": "a77b67d3-9055-4ede-a1a3-b12692611591",
   "metadata": {},
   "outputs": [
    {
     "data": {
      "text/plain": [
       "0"
      ]
     },
     "execution_count": 56,
     "metadata": {},
     "output_type": "execute_result"
    }
   ],
   "source": [
    "# 27. Apply to the testing data set\n",
    "\n",
    "# Prepare the data by removing the rows with missing values in the target variable\n",
    "df_without_missing = df.dropna(subset=['income_annual'])\n",
    "X = df_without_missing[['loan_requested', 'loan_funded', 'loan_investor', 'debt_to_income']]\n",
    "y = df_without_missing['income_annual']\n",
    "\n",
    "# Train the model\n",
    "reg = LinearRegression().fit(X, y)\n",
    "\n",
    "# Make predictions for the missing values in the target variable\n",
    "X_missing = df[df['income_annual'].isna()][['loan_requested', 'loan_funded', 'loan_investor', 'debt_to_income' ]]\n",
    "y_missing = reg.predict(X_missing)\n",
    "\n",
    "# Fill the missing values in the original data frame\n",
    "df.loc[df['income_annual'].isna(), 'income_annual'] = y_missing\n",
    "\n",
    "df['income_annual'].isnull().sum()"
   ]
  },
  {
   "cell_type": "markdown",
   "id": "e8a5987d-aa87-469f-b0f9-ee11a4aae35b",
   "metadata": {},
   "source": [
    "- Alternatively, we also can consider using .inperpolate() and this is the code"
   ]
  },
  {
   "cell_type": "raw",
   "id": "9374f068-93f1-4e56-bc3d-2581fe56a6af",
   "metadata": {},
   "source": [
    "df['income_annual'] = df['income_annual'].interpolate()\n",
    "df['income_annual'].isnull().sum()"
   ]
  },
  {
   "cell_type": "markdown",
   "id": "ddd9d683-d79d-4456-80f0-30ef04a1d615",
   "metadata": {},
   "source": [
    "- Find imputation method on categorical variables other than .interpolate()\n",
    "- Use K-means method due to high dimensionality"
   ]
  },
  {
   "cell_type": "raw",
   "id": "c4a54379-0356-4b5d-b362-df428a88c002",
   "metadata": {},
   "source": [
    "# The categorical fatures in this data set are below\n",
    "'due', 'loan_grade', 'home_ownership', 'income_verified', 'loan_category', 'loan_status', 'tenure_cat', 'region' "
   ]
  },
  {
   "cell_type": "code",
   "execution_count": 57,
   "id": "fc12050e-49c8-4b31-893f-77c14779a706",
   "metadata": {},
   "outputs": [],
   "source": [
    "# 28. Apply to the testing data set\n",
    "# One-hot encode the categorical features\n",
    "df['home_ownership'].fillna('Unknown', inplace = True)\n",
    "df['loan_grade'].fillna('Unknown', inplace = True)\n",
    "\n",
    "df_encoded = pd.get_dummies(df, columns = ['due', 'loan_grade', 'home_ownership', 'income_verified', 'loan_category', 'loan_status', 'tenure_cat', 'region'], prefix = ['due', 'loan_grade', 'home_ownership', 'income_verified', 'loan_category', 'loan_status', 'tenure_cat', 'region'])\n",
    "home_len = len(df['home_ownership'].unique())\n",
    "loan_len = len(df['loan_grade'].unique())"
   ]
  },
  {
   "cell_type": "code",
   "execution_count": 58,
   "id": "ce3dc8c1-7a9a-4f4e-ba5b-43bb0527d1c6",
   "metadata": {},
   "outputs": [
    {
     "name": "stderr",
     "output_type": "stream",
     "text": [
      "/Users/misunsong/opt/anaconda3/lib/python3.9/site-packages/sklearn/cluster/_kmeans.py:870: FutureWarning: The default value of `n_init` will change from 10 to 'auto' in 1.4. Set the value of `n_init` explicitly to suppress the warning\n",
      "  warnings.warn(\n"
     ]
    }
   ],
   "source": [
    "# 29. Apply to the testing data set\n",
    "\n",
    "# Split data into features and target variable\n",
    "X = df_encoded.drop(['loan_grade_Unknown', 'home_ownership_Unknown'], axis = 1)\n",
    "y = df_encoded['loan_grade_Unknown']\n",
    "\n",
    "# Split data into training and test sets\n",
    "train_X = X[y==0]\n",
    "test_X = X[y==1]\n",
    "\n",
    "# Fit the k-means model to the training data\n",
    "kmeans = KMeans(n_clusters = loan_len, random_state = 0).fit(train_X)\n",
    "\n",
    "# Predict the missing loan grade values\n",
    "pred_loan_grades = kmeans.predict(test_X)\n",
    "\n",
    "# Get the unique loan grades\n",
    "loan_grades = df['loan_grade'].unique()\n",
    "\n",
    "# Fill in the missing loan grade values in the original data\n",
    "# Be aware of label-based indexing\n",
    "# pred_loan_grades is likely an array or a list containing the predicted loan grades for the observations in the test set, where the loan grades are represented as integers (e.g., 0 for A, 1 for B, 2 for C, etc.). The line of code df['loan_grade'].unique()[i] is used to map these integers back to the original loan grade labels (e.g., 0 maps to A, 1 maps to B, 2 maps to C, etc.). So, the line of code df.loc[y==1, 'loan_grade'] = [df['loan_grade'].unique()[i] for i in pred_loan_grades] is assigning the predicted loan grades to the appropriate observations in the data frame, where the missing loan grades are represented by 1 in the y array.\n",
    "# K-means method, the label appears as a number starting from 0\n",
    "df.loc[y==1, 'loan_grade'] = [loan_grades[i] for i in pred_loan_grades]"
   ]
  },
  {
   "cell_type": "code",
   "execution_count": 59,
   "id": "8d789509-b018-4d66-a9db-085b7848217e",
   "metadata": {},
   "outputs": [
    {
     "name": "stderr",
     "output_type": "stream",
     "text": [
      "/Users/misunsong/opt/anaconda3/lib/python3.9/site-packages/sklearn/cluster/_kmeans.py:870: FutureWarning: The default value of `n_init` will change from 10 to 'auto' in 1.4. Set the value of `n_init` explicitly to suppress the warning\n",
      "  warnings.warn(\n"
     ]
    }
   ],
   "source": [
    "# 30. Apply to the testing data set\n",
    "\n",
    "# Split data into features and target variable\n",
    "X = df_encoded.drop(['home_ownership_Unknown', 'loan_grade_Unknown'], axis = 1)\n",
    "y = df_encoded['home_ownership_Unknown']\n",
    "\n",
    "# Split data into training and test sets\n",
    "train_X = X[y==0]\n",
    "test_X = X[y==1]\n",
    "\n",
    "# Fit the k-means model to the training data\n",
    "kmeans = KMeans(n_clusters = home_len, random_state = 0).fit(train_X)\n",
    "\n",
    "# Predict the missing loan grade values\n",
    "pred_home_ownership = kmeans.predict(test_X)\n",
    "\n",
    "# Get the unique loan grades\n",
    "home_types = df['home_ownership'].unique()\n",
    "\n",
    "# Fill in the missing loan grade values in the original data\n",
    "# Be aware of label-based indexing\n",
    "# pred_loan_grades is likely an array or a list containing the predicted loan grades for the observatio\n",
    "df.loc[y==1, 'home_ownership'] = [home_types[i] for i in pred_home_ownership]"
   ]
  },
  {
   "cell_type": "code",
   "execution_count": 60,
   "id": "6e8044ba-2db7-453c-86bb-1fe87287426f",
   "metadata": {},
   "outputs": [
    {
     "name": "stdout",
     "output_type": "stream",
     "text": [
      "0\n",
      "0\n"
     ]
    }
   ],
   "source": [
    "print(df['loan_grade'].isnull().sum())\n",
    "print(df['home_ownership'].isnull().sum())"
   ]
  },
  {
   "cell_type": "markdown",
   "id": "3fbea9e7-75c7-4d31-bd59-b2543a0f2d64",
   "metadata": {},
   "source": [
    "- Finally, 5. Remove null values is done"
   ]
  },
  {
   "cell_type": "code",
   "execution_count": 61,
   "id": "e50b7427-dcbb-4bc9-8a49-60774a0adb5b",
   "metadata": {},
   "outputs": [
    {
     "data": {
      "text/html": [
       "<div>\n",
       "<style scoped>\n",
       "    .dataframe tbody tr th:only-of-type {\n",
       "        vertical-align: middle;\n",
       "    }\n",
       "\n",
       "    .dataframe tbody tr th {\n",
       "        vertical-align: top;\n",
       "    }\n",
       "\n",
       "    .dataframe thead th {\n",
       "        text-align: right;\n",
       "    }\n",
       "</style>\n",
       "<table border=\"1\" class=\"dataframe\">\n",
       "  <thead>\n",
       "    <tr style=\"text-align: right;\">\n",
       "      <th></th>\n",
       "      <th>null_values(#)</th>\n",
       "      <th>null_ratio(%)</th>\n",
       "    </tr>\n",
       "  </thead>\n",
       "  <tbody>\n",
       "    <tr>\n",
       "      <th>interest_rate</th>\n",
       "      <td>0</td>\n",
       "      <td>0.0</td>\n",
       "    </tr>\n",
       "    <tr>\n",
       "      <th>inquiry</th>\n",
       "      <td>0</td>\n",
       "      <td>0.0</td>\n",
       "    </tr>\n",
       "    <tr>\n",
       "      <th>loan_year</th>\n",
       "      <td>0</td>\n",
       "      <td>0.0</td>\n",
       "    </tr>\n",
       "    <tr>\n",
       "      <th>credit_open_year</th>\n",
       "      <td>0</td>\n",
       "      <td>0.0</td>\n",
       "    </tr>\n",
       "    <tr>\n",
       "      <th>tenure_cat</th>\n",
       "      <td>0</td>\n",
       "      <td>0.0</td>\n",
       "    </tr>\n",
       "    <tr>\n",
       "      <th>loan_status</th>\n",
       "      <td>0</td>\n",
       "      <td>0.0</td>\n",
       "    </tr>\n",
       "    <tr>\n",
       "      <th>credit_all_number</th>\n",
       "      <td>0</td>\n",
       "      <td>0.0</td>\n",
       "    </tr>\n",
       "    <tr>\n",
       "      <th>revolving_rate</th>\n",
       "      <td>0</td>\n",
       "      <td>0.0</td>\n",
       "    </tr>\n",
       "    <tr>\n",
       "      <th>revolving</th>\n",
       "      <td>0</td>\n",
       "      <td>0.0</td>\n",
       "    </tr>\n",
       "    <tr>\n",
       "      <th>pr_number</th>\n",
       "      <td>0</td>\n",
       "      <td>0.0</td>\n",
       "    </tr>\n",
       "    <tr>\n",
       "      <th>credit_open_number</th>\n",
       "      <td>0</td>\n",
       "      <td>0.0</td>\n",
       "    </tr>\n",
       "    <tr>\n",
       "      <th>past_due_number</th>\n",
       "      <td>0</td>\n",
       "      <td>0.0</td>\n",
       "    </tr>\n",
       "    <tr>\n",
       "      <th>loan_requested</th>\n",
       "      <td>0</td>\n",
       "      <td>0.0</td>\n",
       "    </tr>\n",
       "    <tr>\n",
       "      <th>debt_to_income</th>\n",
       "      <td>0</td>\n",
       "      <td>0.0</td>\n",
       "    </tr>\n",
       "    <tr>\n",
       "      <th>loan_category</th>\n",
       "      <td>0</td>\n",
       "      <td>0.0</td>\n",
       "    </tr>\n",
       "    <tr>\n",
       "      <th>income_verified</th>\n",
       "      <td>0</td>\n",
       "      <td>0.0</td>\n",
       "    </tr>\n",
       "    <tr>\n",
       "      <th>income_annual</th>\n",
       "      <td>0</td>\n",
       "      <td>0.0</td>\n",
       "    </tr>\n",
       "    <tr>\n",
       "      <th>home_ownership</th>\n",
       "      <td>0</td>\n",
       "      <td>0.0</td>\n",
       "    </tr>\n",
       "    <tr>\n",
       "      <th>loan_grade</th>\n",
       "      <td>0</td>\n",
       "      <td>0.0</td>\n",
       "    </tr>\n",
       "    <tr>\n",
       "      <th>due</th>\n",
       "      <td>0</td>\n",
       "      <td>0.0</td>\n",
       "    </tr>\n",
       "    <tr>\n",
       "      <th>loan_investor</th>\n",
       "      <td>0</td>\n",
       "      <td>0.0</td>\n",
       "    </tr>\n",
       "    <tr>\n",
       "      <th>loan_funded</th>\n",
       "      <td>0</td>\n",
       "      <td>0.0</td>\n",
       "    </tr>\n",
       "    <tr>\n",
       "      <th>region</th>\n",
       "      <td>0</td>\n",
       "      <td>0.0</td>\n",
       "    </tr>\n",
       "  </tbody>\n",
       "</table>\n",
       "</div>"
      ],
      "text/plain": [
       "                    null_values(#)  null_ratio(%)\n",
       "interest_rate                    0            0.0\n",
       "inquiry                          0            0.0\n",
       "loan_year                        0            0.0\n",
       "credit_open_year                 0            0.0\n",
       "tenure_cat                       0            0.0\n",
       "loan_status                      0            0.0\n",
       "credit_all_number                0            0.0\n",
       "revolving_rate                   0            0.0\n",
       "revolving                        0            0.0\n",
       "pr_number                        0            0.0\n",
       "credit_open_number               0            0.0\n",
       "past_due_number                  0            0.0\n",
       "loan_requested                   0            0.0\n",
       "debt_to_income                   0            0.0\n",
       "loan_category                    0            0.0\n",
       "income_verified                  0            0.0\n",
       "income_annual                    0            0.0\n",
       "home_ownership                   0            0.0\n",
       "loan_grade                       0            0.0\n",
       "due                              0            0.0\n",
       "loan_investor                    0            0.0\n",
       "loan_funded                      0            0.0\n",
       "region                           0            0.0"
      ]
     },
     "execution_count": 61,
     "metadata": {},
     "output_type": "execute_result"
    }
   ],
   "source": [
    "df_null = pd.DataFrame(df.isnull().sum())\n",
    "df_null_ratio = pd.DataFrame(df.isnull().sum() / len(df) * 100)\n",
    "\n",
    "df_null_report = pd.concat([df_null, df_null_ratio], axis = 1)\n",
    "df_null_report.columns = ['null_values(#)', 'null_ratio(%)']\n",
    "df_null_report.sort_values(by = 'null_values(#)', ascending = False, inplace = True)\n",
    "\n",
    "df_null_report"
   ]
  },
  {
   "cell_type": "code",
   "execution_count": 62,
   "id": "aca50b83-49eb-4460-be97-1a600ca25889",
   "metadata": {
    "tags": []
   },
   "outputs": [
    {
     "data": {
      "image/png": "[encoded data removed]",
      "text/plain": [
       "<Figure size 720x720 with 2 Axes>"
      ]
     },
     "metadata": {
      "needs_background": "light"
     },
     "output_type": "display_data"
    }
   ],
   "source": [
    "plt.figure(figsize=(10, 10))\n",
    "\n",
    "sns.heatmap(df.corr()[['interest_rate']].sort_values(by='interest_rate', ascending=False), vmin=-1, vmax=1, annot=True, cmap='BrBG')\n",
    "\n",
    "plt.show()"
   ]
  },
  {
   "cell_type": "markdown",
   "id": "9a4b86e3-abe9-4586-8549-792a391d4ef1",
   "metadata": {},
   "source": [
    "- Lastly, we removed outliers from several featrues that show relatively high correlation with interest rate if it does not significantly influence on the original data set\n",
    "- The outliers from featrue: 'revolving_rate', feature: 'debt_to_income' were removed"
   ]
  },
  {
   "cell_type": "code",
   "execution_count": 63,
   "id": "f0bbb8f5-d91d-4e54-bb84-ad46bee13559",
   "metadata": {},
   "outputs": [
    {
     "name": "stderr",
     "output_type": "stream",
     "text": [
      "/Users/misunsong/opt/anaconda3/lib/python3.9/site-packages/seaborn/_decorators.py:36: FutureWarning: Pass the following variable as a keyword arg: x. From version 0.12, the only valid positional argument will be `data`, and passing other arguments without an explicit keyword will result in an error or misinterpretation.\n",
      "  warnings.warn(\n"
     ]
    },
    {
     "data": {
      "image/png": "[encoded data removed]",
      "text/plain": [
       "<Figure size 432x288 with 1 Axes>"
      ]
     },
     "metadata": {
      "needs_background": "light"
     },
     "output_type": "display_data"
    }
   ],
   "source": [
    "sns.boxplot(df['revolving_rate'])\n",
    "plt.show()"
   ]
  },
  {
   "cell_type": "code",
   "execution_count": 64,
   "id": "2fd134ee-1439-43ff-8ce5-0c89766e694e",
   "metadata": {},
   "outputs": [
    {
     "name": "stdout",
     "output_type": "stream",
     "text": [
      "11\n",
      "0\n"
     ]
    }
   ],
   "source": [
    "pct25 = df['revolving_rate'].quantile(.25)\n",
    "pct75 = df['revolving_rate'].quantile(.75)\n",
    "iqr = pct75 - pct25\n",
    "\n",
    "bottom = pct25 - 1.5*iqr\n",
    "top = pct75 + 1.5*iqr\n",
    "\n",
    "print(len(df[df['revolving_rate'] > top]))\n",
    "print(len(df[df['revolving_rate'] < bottom]))"
   ]
  },
  {
   "cell_type": "code",
   "execution_count": 65,
   "id": "e2325bbd-5acf-4fcf-94de-ef208be7b7b6",
   "metadata": {},
   "outputs": [],
   "source": [
    "df['revolving_rate'] = np.where((df['revolving_rate'] > top), np.nan, df['revolving_rate'])\n",
    "df = df.dropna(subset = ['revolving_rate'])"
   ]
  },
  {
   "cell_type": "code",
   "execution_count": 66,
   "id": "71fbcf0a-bc97-4704-b292-1a9aa8280c6e",
   "metadata": {},
   "outputs": [
    {
     "name": "stderr",
     "output_type": "stream",
     "text": [
      "/Users/misunsong/opt/anaconda3/lib/python3.9/site-packages/seaborn/_decorators.py:36: FutureWarning: Pass the following variable as a keyword arg: x. From version 0.12, the only valid positional argument will be `data`, and passing other arguments without an explicit keyword will result in an error or misinterpretation.\n",
      "  warnings.warn(\n"
     ]
    },
    {
     "data": {
      "image/png": "[encoded data removed]",
      "text/plain": [
       "<Figure size 432x288 with 1 Axes>"
      ]
     },
     "metadata": {
      "needs_background": "light"
     },
     "output_type": "display_data"
    }
   ],
   "source": [
    "sns.boxplot(df['revolving_rate'])\n",
    "plt.show()"
   ]
  },
  {
   "cell_type": "code",
   "execution_count": 67,
   "id": "bd61be7c-205c-4e33-899b-34084fa82fc6",
   "metadata": {},
   "outputs": [
    {
     "name": "stderr",
     "output_type": "stream",
     "text": [
      "/Users/misunsong/opt/anaconda3/lib/python3.9/site-packages/seaborn/_decorators.py:36: FutureWarning: Pass the following variable as a keyword arg: x. From version 0.12, the only valid positional argument will be `data`, and passing other arguments without an explicit keyword will result in an error or misinterpretation.\n",
      "  warnings.warn(\n"
     ]
    },
    {
     "data": {
      "image/png": "[encoded data removed]",
      "text/plain": [
       "<Figure size 432x288 with 1 Axes>"
      ]
     },
     "metadata": {
      "needs_background": "light"
     },
     "output_type": "display_data"
    }
   ],
   "source": [
    "sns.boxplot(df['inquiry'])\n",
    "plt.show()"
   ]
  },
  {
   "cell_type": "code",
   "execution_count": 68,
   "id": "6184238c-548e-4c84-a553-eea4c018dafd",
   "metadata": {},
   "outputs": [
    {
     "name": "stdout",
     "output_type": "stream",
     "text": [
      "27546\n",
      "0\n"
     ]
    }
   ],
   "source": [
    "pct25 = df['inquiry'].quantile(.25)\n",
    "pct75 = df['inquiry'].quantile(.75)\n",
    "iqr = pct75 - pct25\n",
    "\n",
    "bottom = pct25 - 1.5*iqr\n",
    "top = pct75 + 1.5*iqr\n",
    "\n",
    "print(len(df[df['inquiry'] > top]))\n",
    "print(len(df[df['inquiry'] < bottom]))"
   ]
  },
  {
   "cell_type": "code",
   "execution_count": 69,
   "id": "7920010d-2f6d-436a-ad0b-7045c70f9978",
   "metadata": {},
   "outputs": [
    {
     "name": "stderr",
     "output_type": "stream",
     "text": [
      "/Users/misunsong/opt/anaconda3/lib/python3.9/site-packages/seaborn/_decorators.py:36: FutureWarning: Pass the following variable as a keyword arg: x. From version 0.12, the only valid positional argument will be `data`, and passing other arguments without an explicit keyword will result in an error or misinterpretation.\n",
      "  warnings.warn(\n"
     ]
    },
    {
     "data": {
      "image/png": "[encoded data removed]",
      "text/plain": [
       "<Figure size 432x288 with 1 Axes>"
      ]
     },
     "metadata": {
      "needs_background": "light"
     },
     "output_type": "display_data"
    }
   ],
   "source": [
    "sns.boxplot(df['debt_to_income'])\n",
    "plt.show()"
   ]
  },
  {
   "cell_type": "code",
   "execution_count": 70,
   "id": "26b09827-c418-4327-adee-2f8016cd7395",
   "metadata": {},
   "outputs": [
    {
     "name": "stdout",
     "output_type": "stream",
     "text": [
      "114\n",
      "0\n"
     ]
    }
   ],
   "source": [
    "pct25 = df['debt_to_income'].quantile(.25)\n",
    "pct75 = df['debt_to_income'].quantile(.75)\n",
    "iqr = pct75 - pct25\n",
    "\n",
    "bottom = pct25 - 1.5*iqr\n",
    "top = pct75 + 1.5*iqr\n",
    "\n",
    "print(len(df[df['debt_to_income'] > top]))\n",
    "print(len(df[df['debt_to_income'] < bottom]))"
   ]
  },
  {
   "cell_type": "code",
   "execution_count": 71,
   "id": "1929b25f-ea47-4552-b1ad-b1c4d836df8d",
   "metadata": {},
   "outputs": [],
   "source": [
    "df['debt_to_income'] = np.where((df['debt_to_income'] > top), np.nan, df['debt_to_income'])\n",
    "df = df.dropna(subset = ['debt_to_income'])"
   ]
  },
  {
   "cell_type": "code",
   "execution_count": 72,
   "id": "c4f2616c-932b-45a6-8f89-a605cef82a36",
   "metadata": {},
   "outputs": [
    {
     "name": "stderr",
     "output_type": "stream",
     "text": [
      "/Users/misunsong/opt/anaconda3/lib/python3.9/site-packages/seaborn/_decorators.py:36: FutureWarning: Pass the following variable as a keyword arg: x. From version 0.12, the only valid positional argument will be `data`, and passing other arguments without an explicit keyword will result in an error or misinterpretation.\n",
      "  warnings.warn(\n"
     ]
    },
    {
     "data": {
      "image/png": "[encoded data removed]",
      "text/plain": [
       "<Figure size 432x288 with 1 Axes>"
      ]
     },
     "metadata": {
      "needs_background": "light"
     },
     "output_type": "display_data"
    }
   ],
   "source": [
    "sns.boxplot(df['debt_to_income'])\n",
    "plt.show()"
   ]
  },
  {
   "cell_type": "markdown",
   "id": "400602ae-3e9f-40a3-8efb-3586bad304e0",
   "metadata": {},
   "source": [
    "- Finally, we have our data set for analysis with observations 338864, losing about 16% of the original data set"
   ]
  },
  {
   "cell_type": "code",
   "execution_count": 73,
   "id": "dd090545-40f8-4167-91c0-e867f4584e2e",
   "metadata": {},
   "outputs": [
    {
     "name": "stdout",
     "output_type": "stream",
     "text": [
      "338864\n",
      "0.84716\n"
     ]
    }
   ],
   "source": [
    "print(len(df))\n",
    "print(len(df) / len(df_raw))"
   ]
  },
  {
   "cell_type": "markdown",
   "id": "67a04332-118b-4c80-9f2b-88df3fffa25d",
   "metadata": {},
   "source": [
    "- Using Chi-suqared test, try to drop some undesirable feature that has p_value more than 0.05"
   ]
  },
  {
   "cell_type": "code",
   "execution_count": 74,
   "id": "cff3fdc7-925e-4e53-9bbd-1fa5dd1116a6",
   "metadata": {},
   "outputs": [],
   "source": [
    "def chi_squared_test(data, target_variable):\n",
    "    p_values = []\n",
    "    for variable in data.columns:\n",
    "        if variable != target_variable:\n",
    "            contingency_table = pd.crosstab(data[variable], data[target_variable])\n",
    "            chi2, p, dof, expected = chi2_contingency(contingency_table)\n",
    "            p_values.append((variable, p))\n",
    "    p_values = sorted(p_values, key=lambda x: x[1])\n",
    "    return p_values"
   ]
  },
  {
   "cell_type": "code",
   "execution_count": 75,
   "id": "c0f7b50c-ceb4-47fa-a410-2059e997deaa",
   "metadata": {},
   "outputs": [],
   "source": [
    "p_values = chi_squared_test(df, 'interest_rate')\n",
    "for variable, p_value in p_values:\n",
    "    if p_value > 0.05:\n",
    "        df = df.drop(variable, axis=1)"
   ]
  },
  {
   "cell_type": "markdown",
   "id": "f9dc67f4-c186-46db-a940-3f35353ba40c",
   "metadata": {},
   "source": [
    "- One hot encode our finalized data set to prepare for analysis"
   ]
  },
  {
   "cell_type": "code",
   "execution_count": 76,
   "id": "847f0902-2a92-41e5-95ad-20143a7a84f2",
   "metadata": {},
   "outputs": [],
   "source": [
    "df_train = df.copy()"
   ]
  },
  {
   "cell_type": "code",
   "execution_count": 77,
   "id": "ec5feac6-1b23-4f7f-9f3d-100591202068",
   "metadata": {},
   "outputs": [
    {
     "data": {
      "text/html": [
       "<div>\n",
       "<style scoped>\n",
       "    .dataframe tbody tr th:only-of-type {\n",
       "        vertical-align: middle;\n",
       "    }\n",
       "\n",
       "    .dataframe tbody tr th {\n",
       "        vertical-align: top;\n",
       "    }\n",
       "\n",
       "    .dataframe thead th {\n",
       "        text-align: right;\n",
       "    }\n",
       "</style>\n",
       "<table border=\"1\" class=\"dataframe\">\n",
       "  <thead>\n",
       "    <tr style=\"text-align: right;\">\n",
       "      <th></th>\n",
       "      <th>interest_rate</th>\n",
       "      <th>loan_requested</th>\n",
       "      <th>loan_funded</th>\n",
       "      <th>loan_investor</th>\n",
       "      <th>past_due_number</th>\n",
       "      <th>inquiry</th>\n",
       "      <th>credit_open_number</th>\n",
       "      <th>pr_number</th>\n",
       "      <th>revolving</th>\n",
       "      <th>revolving_rate</th>\n",
       "      <th>credit_all_number</th>\n",
       "      <th>credit_open_year</th>\n",
       "      <th>loan_year</th>\n",
       "      <th>due_36M</th>\n",
       "      <th>due_60M</th>\n",
       "      <th>loan_grade_A</th>\n",
       "      <th>loan_grade_B</th>\n",
       "      <th>loan_grade_C</th>\n",
       "      <th>loan_grade_D</th>\n",
       "      <th>loan_grade_E</th>\n",
       "      <th>loan_grade_F</th>\n",
       "      <th>loan_grade_G</th>\n",
       "      <th>loan_grade_Unknown</th>\n",
       "      <th>home_ownership_MORTGAGE</th>\n",
       "      <th>home_ownership_OTHER</th>\n",
       "      <th>home_ownership_OWN</th>\n",
       "      <th>home_ownership_RENT</th>\n",
       "      <th>home_ownership_Unknown</th>\n",
       "      <th>income_verified_Income</th>\n",
       "      <th>income_verified_No</th>\n",
       "      <th>income_verified_Source</th>\n",
       "      <th>loan_category_car</th>\n",
       "      <th>loan_category_credit_card</th>\n",
       "      <th>loan_category_debt_consolidation</th>\n",
       "      <th>loan_category_educational</th>\n",
       "      <th>loan_category_home_improvement</th>\n",
       "      <th>loan_category_house</th>\n",
       "      <th>loan_category_major_purchase</th>\n",
       "      <th>loan_category_medical</th>\n",
       "      <th>loan_category_moving</th>\n",
       "      <th>loan_category_other</th>\n",
       "      <th>loan_category_renewable_energy</th>\n",
       "      <th>loan_category_small_business</th>\n",
       "      <th>loan_category_vacation</th>\n",
       "      <th>loan_category_wedding</th>\n",
       "      <th>loan_status_f</th>\n",
       "      <th>loan_status_w</th>\n",
       "      <th>tenure_cat_10Y_</th>\n",
       "      <th>tenure_cat_5_9Y</th>\n",
       "      <th>tenure_cat__5Y</th>\n",
       "      <th>region_Mid_Atlantic</th>\n",
       "      <th>region_Midwest</th>\n",
       "      <th>region_Northeast</th>\n",
       "      <th>region_South</th>\n",
       "      <th>region_West</th>\n",
       "    </tr>\n",
       "  </thead>\n",
       "  <tbody>\n",
       "    <tr>\n",
       "      <th>0</th>\n",
       "      <td>11.89</td>\n",
       "      <td>25000.0</td>\n",
       "      <td>25000.0</td>\n",
       "      <td>19080.0</td>\n",
       "      <td>0.0</td>\n",
       "      <td>0.0</td>\n",
       "      <td>10.0</td>\n",
       "      <td>0.0</td>\n",
       "      <td>28854.0</td>\n",
       "      <td>52.1</td>\n",
       "      <td>42.0</td>\n",
       "      <td>1994</td>\n",
       "      <td>2009</td>\n",
       "      <td>1</td>\n",
       "      <td>0</td>\n",
       "      <td>0</td>\n",
       "      <td>1</td>\n",
       "      <td>0</td>\n",
       "      <td>0</td>\n",
       "      <td>0</td>\n",
       "      <td>0</td>\n",
       "      <td>0</td>\n",
       "      <td>0</td>\n",
       "      <td>0</td>\n",
       "      <td>0</td>\n",
       "      <td>0</td>\n",
       "      <td>1</td>\n",
       "      <td>0</td>\n",
       "      <td>1</td>\n",
       "      <td>0</td>\n",
       "      <td>0</td>\n",
       "      <td>0</td>\n",
       "      <td>0</td>\n",
       "      <td>1</td>\n",
       "      <td>0</td>\n",
       "      <td>0</td>\n",
       "      <td>0</td>\n",
       "      <td>0</td>\n",
       "      <td>0</td>\n",
       "      <td>0</td>\n",
       "      <td>0</td>\n",
       "      <td>0</td>\n",
       "      <td>0</td>\n",
       "      <td>0</td>\n",
       "      <td>0</td>\n",
       "      <td>1</td>\n",
       "      <td>0</td>\n",
       "      <td>0</td>\n",
       "      <td>0</td>\n",
       "      <td>1</td>\n",
       "      <td>0</td>\n",
       "      <td>0</td>\n",
       "      <td>0</td>\n",
       "      <td>0</td>\n",
       "      <td>1</td>\n",
       "    </tr>\n",
       "    <tr>\n",
       "      <th>1</th>\n",
       "      <td>10.71</td>\n",
       "      <td>7000.0</td>\n",
       "      <td>7000.0</td>\n",
       "      <td>673.0</td>\n",
       "      <td>0.0</td>\n",
       "      <td>0.0</td>\n",
       "      <td>7.0</td>\n",
       "      <td>0.0</td>\n",
       "      <td>33623.0</td>\n",
       "      <td>76.7</td>\n",
       "      <td>7.0</td>\n",
       "      <td>2000</td>\n",
       "      <td>2008</td>\n",
       "      <td>1</td>\n",
       "      <td>0</td>\n",
       "      <td>0</td>\n",
       "      <td>1</td>\n",
       "      <td>0</td>\n",
       "      <td>0</td>\n",
       "      <td>0</td>\n",
       "      <td>0</td>\n",
       "      <td>0</td>\n",
       "      <td>0</td>\n",
       "      <td>0</td>\n",
       "      <td>0</td>\n",
       "      <td>0</td>\n",
       "      <td>1</td>\n",
       "      <td>0</td>\n",
       "      <td>0</td>\n",
       "      <td>1</td>\n",
       "      <td>0</td>\n",
       "      <td>0</td>\n",
       "      <td>1</td>\n",
       "      <td>0</td>\n",
       "      <td>0</td>\n",
       "      <td>0</td>\n",
       "      <td>0</td>\n",
       "      <td>0</td>\n",
       "      <td>0</td>\n",
       "      <td>0</td>\n",
       "      <td>0</td>\n",
       "      <td>0</td>\n",
       "      <td>0</td>\n",
       "      <td>0</td>\n",
       "      <td>0</td>\n",
       "      <td>1</td>\n",
       "      <td>0</td>\n",
       "      <td>0</td>\n",
       "      <td>0</td>\n",
       "      <td>1</td>\n",
       "      <td>0</td>\n",
       "      <td>0</td>\n",
       "      <td>1</td>\n",
       "      <td>0</td>\n",
       "      <td>0</td>\n",
       "    </tr>\n",
       "    <tr>\n",
       "      <th>2</th>\n",
       "      <td>16.99</td>\n",
       "      <td>25000.0</td>\n",
       "      <td>25000.0</td>\n",
       "      <td>24725.0</td>\n",
       "      <td>0.0</td>\n",
       "      <td>0.0</td>\n",
       "      <td>10.0</td>\n",
       "      <td>0.0</td>\n",
       "      <td>19878.0</td>\n",
       "      <td>66.3</td>\n",
       "      <td>17.0</td>\n",
       "      <td>2000</td>\n",
       "      <td>2014</td>\n",
       "      <td>1</td>\n",
       "      <td>0</td>\n",
       "      <td>0</td>\n",
       "      <td>0</td>\n",
       "      <td>0</td>\n",
       "      <td>1</td>\n",
       "      <td>0</td>\n",
       "      <td>0</td>\n",
       "      <td>0</td>\n",
       "      <td>0</td>\n",
       "      <td>0</td>\n",
       "      <td>0</td>\n",
       "      <td>0</td>\n",
       "      <td>1</td>\n",
       "      <td>0</td>\n",
       "      <td>1</td>\n",
       "      <td>0</td>\n",
       "      <td>0</td>\n",
       "      <td>0</td>\n",
       "      <td>0</td>\n",
       "      <td>1</td>\n",
       "      <td>0</td>\n",
       "      <td>0</td>\n",
       "      <td>0</td>\n",
       "      <td>0</td>\n",
       "      <td>0</td>\n",
       "      <td>0</td>\n",
       "      <td>0</td>\n",
       "      <td>0</td>\n",
       "      <td>0</td>\n",
       "      <td>0</td>\n",
       "      <td>0</td>\n",
       "      <td>1</td>\n",
       "      <td>0</td>\n",
       "      <td>0</td>\n",
       "      <td>0</td>\n",
       "      <td>1</td>\n",
       "      <td>0</td>\n",
       "      <td>0</td>\n",
       "      <td>1</td>\n",
       "      <td>0</td>\n",
       "      <td>0</td>\n",
       "    </tr>\n",
       "    <tr>\n",
       "      <th>3</th>\n",
       "      <td>13.11</td>\n",
       "      <td>1200.0</td>\n",
       "      <td>1200.0</td>\n",
       "      <td>1200.0</td>\n",
       "      <td>0.0</td>\n",
       "      <td>0.0</td>\n",
       "      <td>5.0</td>\n",
       "      <td>0.0</td>\n",
       "      <td>2584.0</td>\n",
       "      <td>40.4</td>\n",
       "      <td>31.0</td>\n",
       "      <td>1985</td>\n",
       "      <td>2010</td>\n",
       "      <td>1</td>\n",
       "      <td>0</td>\n",
       "      <td>0</td>\n",
       "      <td>0</td>\n",
       "      <td>1</td>\n",
       "      <td>0</td>\n",
       "      <td>0</td>\n",
       "      <td>0</td>\n",
       "      <td>0</td>\n",
       "      <td>0</td>\n",
       "      <td>0</td>\n",
       "      <td>0</td>\n",
       "      <td>1</td>\n",
       "      <td>0</td>\n",
       "      <td>0</td>\n",
       "      <td>0</td>\n",
       "      <td>1</td>\n",
       "      <td>0</td>\n",
       "      <td>0</td>\n",
       "      <td>0</td>\n",
       "      <td>1</td>\n",
       "      <td>0</td>\n",
       "      <td>0</td>\n",
       "      <td>0</td>\n",
       "      <td>0</td>\n",
       "      <td>0</td>\n",
       "      <td>0</td>\n",
       "      <td>0</td>\n",
       "      <td>0</td>\n",
       "      <td>0</td>\n",
       "      <td>0</td>\n",
       "      <td>0</td>\n",
       "      <td>1</td>\n",
       "      <td>0</td>\n",
       "      <td>1</td>\n",
       "      <td>0</td>\n",
       "      <td>0</td>\n",
       "      <td>0</td>\n",
       "      <td>0</td>\n",
       "      <td>0</td>\n",
       "      <td>1</td>\n",
       "      <td>0</td>\n",
       "    </tr>\n",
       "    <tr>\n",
       "      <th>4</th>\n",
       "      <td>13.57</td>\n",
       "      <td>10800.0</td>\n",
       "      <td>10800.0</td>\n",
       "      <td>10692.0</td>\n",
       "      <td>0.0</td>\n",
       "      <td>1.0</td>\n",
       "      <td>14.0</td>\n",
       "      <td>0.0</td>\n",
       "      <td>3511.0</td>\n",
       "      <td>25.6</td>\n",
       "      <td>40.0</td>\n",
       "      <td>1996</td>\n",
       "      <td>2009</td>\n",
       "      <td>1</td>\n",
       "      <td>0</td>\n",
       "      <td>0</td>\n",
       "      <td>0</td>\n",
       "      <td>1</td>\n",
       "      <td>0</td>\n",
       "      <td>0</td>\n",
       "      <td>0</td>\n",
       "      <td>0</td>\n",
       "      <td>0</td>\n",
       "      <td>0</td>\n",
       "      <td>0</td>\n",
       "      <td>0</td>\n",
       "      <td>1</td>\n",
       "      <td>0</td>\n",
       "      <td>0</td>\n",
       "      <td>1</td>\n",
       "      <td>0</td>\n",
       "      <td>0</td>\n",
       "      <td>0</td>\n",
       "      <td>1</td>\n",
       "      <td>0</td>\n",
       "      <td>0</td>\n",
       "      <td>0</td>\n",
       "      <td>0</td>\n",
       "      <td>0</td>\n",
       "      <td>0</td>\n",
       "      <td>0</td>\n",
       "      <td>0</td>\n",
       "      <td>0</td>\n",
       "      <td>0</td>\n",
       "      <td>0</td>\n",
       "      <td>1</td>\n",
       "      <td>0</td>\n",
       "      <td>0</td>\n",
       "      <td>1</td>\n",
       "      <td>0</td>\n",
       "      <td>0</td>\n",
       "      <td>0</td>\n",
       "      <td>1</td>\n",
       "      <td>0</td>\n",
       "      <td>0</td>\n",
       "    </tr>\n",
       "    <tr>\n",
       "      <th>...</th>\n",
       "      <td>...</td>\n",
       "      <td>...</td>\n",
       "      <td>...</td>\n",
       "      <td>...</td>\n",
       "      <td>...</td>\n",
       "      <td>...</td>\n",
       "      <td>...</td>\n",
       "      <td>...</td>\n",
       "      <td>...</td>\n",
       "      <td>...</td>\n",
       "      <td>...</td>\n",
       "      <td>...</td>\n",
       "      <td>...</td>\n",
       "      <td>...</td>\n",
       "      <td>...</td>\n",
       "      <td>...</td>\n",
       "      <td>...</td>\n",
       "      <td>...</td>\n",
       "      <td>...</td>\n",
       "      <td>...</td>\n",
       "      <td>...</td>\n",
       "      <td>...</td>\n",
       "      <td>...</td>\n",
       "      <td>...</td>\n",
       "      <td>...</td>\n",
       "      <td>...</td>\n",
       "      <td>...</td>\n",
       "      <td>...</td>\n",
       "      <td>...</td>\n",
       "      <td>...</td>\n",
       "      <td>...</td>\n",
       "      <td>...</td>\n",
       "      <td>...</td>\n",
       "      <td>...</td>\n",
       "      <td>...</td>\n",
       "      <td>...</td>\n",
       "      <td>...</td>\n",
       "      <td>...</td>\n",
       "      <td>...</td>\n",
       "      <td>...</td>\n",
       "      <td>...</td>\n",
       "      <td>...</td>\n",
       "      <td>...</td>\n",
       "      <td>...</td>\n",
       "      <td>...</td>\n",
       "      <td>...</td>\n",
       "      <td>...</td>\n",
       "      <td>...</td>\n",
       "      <td>...</td>\n",
       "      <td>...</td>\n",
       "      <td>...</td>\n",
       "      <td>...</td>\n",
       "      <td>...</td>\n",
       "      <td>...</td>\n",
       "      <td>...</td>\n",
       "    </tr>\n",
       "    <tr>\n",
       "      <th>399995</th>\n",
       "      <td>12.99</td>\n",
       "      <td>10000.0</td>\n",
       "      <td>10000.0</td>\n",
       "      <td>10000.0</td>\n",
       "      <td>0.0</td>\n",
       "      <td>0.0</td>\n",
       "      <td>9.0</td>\n",
       "      <td>0.0</td>\n",
       "      <td>10268.0</td>\n",
       "      <td>76.1</td>\n",
       "      <td>20.0</td>\n",
       "      <td>2003</td>\n",
       "      <td>2014</td>\n",
       "      <td>0</td>\n",
       "      <td>1</td>\n",
       "      <td>0</td>\n",
       "      <td>0</td>\n",
       "      <td>1</td>\n",
       "      <td>0</td>\n",
       "      <td>0</td>\n",
       "      <td>0</td>\n",
       "      <td>0</td>\n",
       "      <td>0</td>\n",
       "      <td>0</td>\n",
       "      <td>0</td>\n",
       "      <td>0</td>\n",
       "      <td>1</td>\n",
       "      <td>0</td>\n",
       "      <td>0</td>\n",
       "      <td>0</td>\n",
       "      <td>1</td>\n",
       "      <td>0</td>\n",
       "      <td>1</td>\n",
       "      <td>0</td>\n",
       "      <td>0</td>\n",
       "      <td>0</td>\n",
       "      <td>0</td>\n",
       "      <td>0</td>\n",
       "      <td>0</td>\n",
       "      <td>0</td>\n",
       "      <td>0</td>\n",
       "      <td>0</td>\n",
       "      <td>0</td>\n",
       "      <td>0</td>\n",
       "      <td>0</td>\n",
       "      <td>0</td>\n",
       "      <td>1</td>\n",
       "      <td>0</td>\n",
       "      <td>1</td>\n",
       "      <td>0</td>\n",
       "      <td>0</td>\n",
       "      <td>0</td>\n",
       "      <td>0</td>\n",
       "      <td>1</td>\n",
       "      <td>0</td>\n",
       "    </tr>\n",
       "    <tr>\n",
       "      <th>399996</th>\n",
       "      <td>16.29</td>\n",
       "      <td>13150.0</td>\n",
       "      <td>13150.0</td>\n",
       "      <td>13150.0</td>\n",
       "      <td>0.0</td>\n",
       "      <td>0.0</td>\n",
       "      <td>11.0</td>\n",
       "      <td>0.0</td>\n",
       "      <td>8931.0</td>\n",
       "      <td>37.8</td>\n",
       "      <td>21.0</td>\n",
       "      <td>2007</td>\n",
       "      <td>2014</td>\n",
       "      <td>1</td>\n",
       "      <td>0</td>\n",
       "      <td>0</td>\n",
       "      <td>0</td>\n",
       "      <td>0</td>\n",
       "      <td>1</td>\n",
       "      <td>0</td>\n",
       "      <td>0</td>\n",
       "      <td>0</td>\n",
       "      <td>0</td>\n",
       "      <td>0</td>\n",
       "      <td>0</td>\n",
       "      <td>1</td>\n",
       "      <td>0</td>\n",
       "      <td>0</td>\n",
       "      <td>1</td>\n",
       "      <td>0</td>\n",
       "      <td>0</td>\n",
       "      <td>0</td>\n",
       "      <td>0</td>\n",
       "      <td>1</td>\n",
       "      <td>0</td>\n",
       "      <td>0</td>\n",
       "      <td>0</td>\n",
       "      <td>0</td>\n",
       "      <td>0</td>\n",
       "      <td>0</td>\n",
       "      <td>0</td>\n",
       "      <td>0</td>\n",
       "      <td>0</td>\n",
       "      <td>0</td>\n",
       "      <td>0</td>\n",
       "      <td>1</td>\n",
       "      <td>0</td>\n",
       "      <td>0</td>\n",
       "      <td>0</td>\n",
       "      <td>1</td>\n",
       "      <td>0</td>\n",
       "      <td>0</td>\n",
       "      <td>0</td>\n",
       "      <td>1</td>\n",
       "      <td>0</td>\n",
       "    </tr>\n",
       "    <tr>\n",
       "      <th>399997</th>\n",
       "      <td>10.99</td>\n",
       "      <td>20000.0</td>\n",
       "      <td>20000.0</td>\n",
       "      <td>20000.0</td>\n",
       "      <td>0.0</td>\n",
       "      <td>0.0</td>\n",
       "      <td>14.0</td>\n",
       "      <td>0.0</td>\n",
       "      <td>28976.0</td>\n",
       "      <td>69.3</td>\n",
       "      <td>48.0</td>\n",
       "      <td>2004</td>\n",
       "      <td>2014</td>\n",
       "      <td>0</td>\n",
       "      <td>1</td>\n",
       "      <td>0</td>\n",
       "      <td>1</td>\n",
       "      <td>0</td>\n",
       "      <td>0</td>\n",
       "      <td>0</td>\n",
       "      <td>0</td>\n",
       "      <td>0</td>\n",
       "      <td>0</td>\n",
       "      <td>1</td>\n",
       "      <td>0</td>\n",
       "      <td>0</td>\n",
       "      <td>0</td>\n",
       "      <td>0</td>\n",
       "      <td>0</td>\n",
       "      <td>0</td>\n",
       "      <td>1</td>\n",
       "      <td>0</td>\n",
       "      <td>1</td>\n",
       "      <td>0</td>\n",
       "      <td>0</td>\n",
       "      <td>0</td>\n",
       "      <td>0</td>\n",
       "      <td>0</td>\n",
       "      <td>0</td>\n",
       "      <td>0</td>\n",
       "      <td>0</td>\n",
       "      <td>0</td>\n",
       "      <td>0</td>\n",
       "      <td>0</td>\n",
       "      <td>0</td>\n",
       "      <td>0</td>\n",
       "      <td>1</td>\n",
       "      <td>0</td>\n",
       "      <td>0</td>\n",
       "      <td>1</td>\n",
       "      <td>0</td>\n",
       "      <td>0</td>\n",
       "      <td>0</td>\n",
       "      <td>1</td>\n",
       "      <td>0</td>\n",
       "    </tr>\n",
       "    <tr>\n",
       "      <th>399998</th>\n",
       "      <td>17.57</td>\n",
       "      <td>18475.0</td>\n",
       "      <td>18475.0</td>\n",
       "      <td>18475.0</td>\n",
       "      <td>0.0</td>\n",
       "      <td>0.0</td>\n",
       "      <td>19.0</td>\n",
       "      <td>0.0</td>\n",
       "      <td>11982.0</td>\n",
       "      <td>39.0</td>\n",
       "      <td>31.0</td>\n",
       "      <td>1994</td>\n",
       "      <td>2014</td>\n",
       "      <td>0</td>\n",
       "      <td>1</td>\n",
       "      <td>0</td>\n",
       "      <td>0</td>\n",
       "      <td>0</td>\n",
       "      <td>1</td>\n",
       "      <td>0</td>\n",
       "      <td>0</td>\n",
       "      <td>0</td>\n",
       "      <td>0</td>\n",
       "      <td>0</td>\n",
       "      <td>0</td>\n",
       "      <td>1</td>\n",
       "      <td>0</td>\n",
       "      <td>0</td>\n",
       "      <td>0</td>\n",
       "      <td>0</td>\n",
       "      <td>1</td>\n",
       "      <td>0</td>\n",
       "      <td>0</td>\n",
       "      <td>1</td>\n",
       "      <td>0</td>\n",
       "      <td>0</td>\n",
       "      <td>0</td>\n",
       "      <td>0</td>\n",
       "      <td>0</td>\n",
       "      <td>0</td>\n",
       "      <td>0</td>\n",
       "      <td>0</td>\n",
       "      <td>0</td>\n",
       "      <td>0</td>\n",
       "      <td>0</td>\n",
       "      <td>1</td>\n",
       "      <td>0</td>\n",
       "      <td>1</td>\n",
       "      <td>0</td>\n",
       "      <td>0</td>\n",
       "      <td>0</td>\n",
       "      <td>0</td>\n",
       "      <td>0</td>\n",
       "      <td>1</td>\n",
       "      <td>0</td>\n",
       "    </tr>\n",
       "    <tr>\n",
       "      <th>399999</th>\n",
       "      <td>13.35</td>\n",
       "      <td>16000.0</td>\n",
       "      <td>16000.0</td>\n",
       "      <td>16000.0</td>\n",
       "      <td>0.0</td>\n",
       "      <td>0.0</td>\n",
       "      <td>9.0</td>\n",
       "      <td>0.0</td>\n",
       "      <td>3864.0</td>\n",
       "      <td>53.7</td>\n",
       "      <td>12.0</td>\n",
       "      <td>2010</td>\n",
       "      <td>2014</td>\n",
       "      <td>1</td>\n",
       "      <td>0</td>\n",
       "      <td>0</td>\n",
       "      <td>0</td>\n",
       "      <td>1</td>\n",
       "      <td>0</td>\n",
       "      <td>0</td>\n",
       "      <td>0</td>\n",
       "      <td>0</td>\n",
       "      <td>0</td>\n",
       "      <td>0</td>\n",
       "      <td>0</td>\n",
       "      <td>0</td>\n",
       "      <td>1</td>\n",
       "      <td>0</td>\n",
       "      <td>0</td>\n",
       "      <td>1</td>\n",
       "      <td>0</td>\n",
       "      <td>0</td>\n",
       "      <td>0</td>\n",
       "      <td>1</td>\n",
       "      <td>0</td>\n",
       "      <td>0</td>\n",
       "      <td>0</td>\n",
       "      <td>0</td>\n",
       "      <td>0</td>\n",
       "      <td>0</td>\n",
       "      <td>0</td>\n",
       "      <td>0</td>\n",
       "      <td>0</td>\n",
       "      <td>0</td>\n",
       "      <td>0</td>\n",
       "      <td>1</td>\n",
       "      <td>0</td>\n",
       "      <td>0</td>\n",
       "      <td>0</td>\n",
       "      <td>1</td>\n",
       "      <td>0</td>\n",
       "      <td>0</td>\n",
       "      <td>0</td>\n",
       "      <td>1</td>\n",
       "      <td>0</td>\n",
       "    </tr>\n",
       "  </tbody>\n",
       "</table>\n",
       "<p>338864 rows × 55 columns</p>\n",
       "</div>"
      ],
      "text/plain": [
       "        interest_rate  loan_requested  loan_funded  loan_investor  \\\n",
       "0               11.89         25000.0      25000.0        19080.0   \n",
       "1               10.71          7000.0       7000.0          673.0   \n",
       "2               16.99         25000.0      25000.0        24725.0   \n",
       "3               13.11          1200.0       1200.0         1200.0   \n",
       "4               13.57         10800.0      10800.0        10692.0   \n",
       "...               ...             ...          ...            ...   \n",
       "399995          12.99         10000.0      10000.0        10000.0   \n",
       "399996          16.29         13150.0      13150.0        13150.0   \n",
       "399997          10.99         20000.0      20000.0        20000.0   \n",
       "399998          17.57         18475.0      18475.0        18475.0   \n",
       "399999          13.35         16000.0      16000.0        16000.0   \n",
       "\n",
       "        past_due_number  inquiry  credit_open_number  pr_number  revolving  \\\n",
       "0                   0.0      0.0                10.0        0.0    28854.0   \n",
       "1                   0.0      0.0                 7.0        0.0    33623.0   \n",
       "2                   0.0      0.0                10.0        0.0    19878.0   \n",
       "3                   0.0      0.0                 5.0        0.0     2584.0   \n",
       "4                   0.0      1.0                14.0        0.0     3511.0   \n",
       "...                 ...      ...                 ...        ...        ...   \n",
       "399995              0.0      0.0                 9.0        0.0    10268.0   \n",
       "399996              0.0      0.0                11.0        0.0     8931.0   \n",
       "399997              0.0      0.0                14.0        0.0    28976.0   \n",
       "399998              0.0      0.0                19.0        0.0    11982.0   \n",
       "399999              0.0      0.0                 9.0        0.0     3864.0   \n",
       "\n",
       "        revolving_rate  credit_all_number  credit_open_year  loan_year  \\\n",
       "0                 52.1               42.0              1994       2009   \n",
       "1                 76.7                7.0              2000       2008   \n",
       "2                 66.3               17.0              2000       2014   \n",
       "3                 40.4               31.0              1985       2010   \n",
       "4                 25.6               40.0              1996       2009   \n",
       "...                ...                ...               ...        ...   \n",
       "399995            76.1               20.0              2003       2014   \n",
       "399996            37.8               21.0              2007       2014   \n",
       "399997            69.3               48.0              2004       2014   \n",
       "399998            39.0               31.0              1994       2014   \n",
       "399999            53.7               12.0              2010       2014   \n",
       "\n",
       "        due_36M  due_60M  loan_grade_A  loan_grade_B  loan_grade_C  \\\n",
       "0             1        0             0             1             0   \n",
       "1             1        0             0             1             0   \n",
       "2             1        0             0             0             0   \n",
       "3             1        0             0             0             1   \n",
       "4             1        0             0             0             1   \n",
       "...         ...      ...           ...           ...           ...   \n",
       "399995        0        1             0             0             1   \n",
       "399996        1        0             0             0             0   \n",
       "399997        0        1             0             1             0   \n",
       "399998        0        1             0             0             0   \n",
       "399999        1        0             0             0             1   \n",
       "\n",
       "        loan_grade_D  loan_grade_E  loan_grade_F  loan_grade_G  \\\n",
       "0                  0             0             0             0   \n",
       "1                  0             0             0             0   \n",
       "2                  1             0             0             0   \n",
       "3                  0             0             0             0   \n",
       "4                  0             0             0             0   \n",
       "...              ...           ...           ...           ...   \n",
       "399995             0             0             0             0   \n",
       "399996             1             0             0             0   \n",
       "399997             0             0             0             0   \n",
       "399998             1             0             0             0   \n",
       "399999             0             0             0             0   \n",
       "\n",
       "        loan_grade_Unknown  home_ownership_MORTGAGE  home_ownership_OTHER  \\\n",
       "0                        0                        0                     0   \n",
       "1                        0                        0                     0   \n",
       "2                        0                        0                     0   \n",
       "3                        0                        0                     0   \n",
       "4                        0                        0                     0   \n",
       "...                    ...                      ...                   ...   \n",
       "399995                   0                        0                     0   \n",
       "399996                   0                        0                     0   \n",
       "399997                   0                        1                     0   \n",
       "399998                   0                        0                     0   \n",
       "399999                   0                        0                     0   \n",
       "\n",
       "        home_ownership_OWN  home_ownership_RENT  home_ownership_Unknown  \\\n",
       "0                        0                    1                       0   \n",
       "1                        0                    1                       0   \n",
       "2                        0                    1                       0   \n",
       "3                        1                    0                       0   \n",
       "4                        0                    1                       0   \n",
       "...                    ...                  ...                     ...   \n",
       "399995                   0                    1                       0   \n",
       "399996                   1                    0                       0   \n",
       "399997                   0                    0                       0   \n",
       "399998                   1                    0                       0   \n",
       "399999                   0                    1                       0   \n",
       "\n",
       "        income_verified_Income  income_verified_No  income_verified_Source  \\\n",
       "0                            1                   0                       0   \n",
       "1                            0                   1                       0   \n",
       "2                            1                   0                       0   \n",
       "3                            0                   1                       0   \n",
       "4                            0                   1                       0   \n",
       "...                        ...                 ...                     ...   \n",
       "399995                       0                   0                       1   \n",
       "399996                       1                   0                       0   \n",
       "399997                       0                   0                       1   \n",
       "399998                       0                   0                       1   \n",
       "399999                       0                   1                       0   \n",
       "\n",
       "        loan_category_car  loan_category_credit_card  \\\n",
       "0                       0                          0   \n",
       "1                       0                          1   \n",
       "2                       0                          0   \n",
       "3                       0                          0   \n",
       "4                       0                          0   \n",
       "...                   ...                        ...   \n",
       "399995                  0                          1   \n",
       "399996                  0                          0   \n",
       "399997                  0                          1   \n",
       "399998                  0                          0   \n",
       "399999                  0                          0   \n",
       "\n",
       "        loan_category_debt_consolidation  loan_category_educational  \\\n",
       "0                                      1                          0   \n",
       "1                                      0                          0   \n",
       "2                                      1                          0   \n",
       "3                                      1                          0   \n",
       "4                                      1                          0   \n",
       "...                                  ...                        ...   \n",
       "399995                                 0                          0   \n",
       "399996                                 1                          0   \n",
       "399997                                 0                          0   \n",
       "399998                                 1                          0   \n",
       "399999                                 1                          0   \n",
       "\n",
       "        loan_category_home_improvement  loan_category_house  \\\n",
       "0                                    0                    0   \n",
       "1                                    0                    0   \n",
       "2                                    0                    0   \n",
       "3                                    0                    0   \n",
       "4                                    0                    0   \n",
       "...                                ...                  ...   \n",
       "399995                               0                    0   \n",
       "399996                               0                    0   \n",
       "399997                               0                    0   \n",
       "399998                               0                    0   \n",
       "399999                               0                    0   \n",
       "\n",
       "        loan_category_major_purchase  loan_category_medical  \\\n",
       "0                                  0                      0   \n",
       "1                                  0                      0   \n",
       "2                                  0                      0   \n",
       "3                                  0                      0   \n",
       "4                                  0                      0   \n",
       "...                              ...                    ...   \n",
       "399995                             0                      0   \n",
       "399996                             0                      0   \n",
       "399997                             0                      0   \n",
       "399998                             0                      0   \n",
       "399999                             0                      0   \n",
       "\n",
       "        loan_category_moving  loan_category_other  \\\n",
       "0                          0                    0   \n",
       "1                          0                    0   \n",
       "2                          0                    0   \n",
       "3                          0                    0   \n",
       "4                          0                    0   \n",
       "...                      ...                  ...   \n",
       "399995                     0                    0   \n",
       "399996                     0                    0   \n",
       "399997                     0                    0   \n",
       "399998                     0                    0   \n",
       "399999                     0                    0   \n",
       "\n",
       "        loan_category_renewable_energy  loan_category_small_business  \\\n",
       "0                                    0                             0   \n",
       "1                                    0                             0   \n",
       "2                                    0                             0   \n",
       "3                                    0                             0   \n",
       "4                                    0                             0   \n",
       "...                                ...                           ...   \n",
       "399995                               0                             0   \n",
       "399996                               0                             0   \n",
       "399997                               0                             0   \n",
       "399998                               0                             0   \n",
       "399999                               0                             0   \n",
       "\n",
       "        loan_category_vacation  loan_category_wedding  loan_status_f  \\\n",
       "0                            0                      0              1   \n",
       "1                            0                      0              1   \n",
       "2                            0                      0              1   \n",
       "3                            0                      0              1   \n",
       "4                            0                      0              1   \n",
       "...                        ...                    ...            ...   \n",
       "399995                       0                      0              0   \n",
       "399996                       0                      0              1   \n",
       "399997                       0                      0              0   \n",
       "399998                       0                      0              1   \n",
       "399999                       0                      0              1   \n",
       "\n",
       "        loan_status_w  tenure_cat_10Y_  tenure_cat_5_9Y  tenure_cat__5Y  \\\n",
       "0                   0                0                0               1   \n",
       "1                   0                0                0               1   \n",
       "2                   0                0                0               1   \n",
       "3                   0                1                0               0   \n",
       "4                   0                0                1               0   \n",
       "...               ...              ...              ...             ...   \n",
       "399995              1                0                1               0   \n",
       "399996              0                0                0               1   \n",
       "399997              1                0                0               1   \n",
       "399998              0                1                0               0   \n",
       "399999              0                0                0               1   \n",
       "\n",
       "        region_Mid_Atlantic  region_Midwest  region_Northeast  region_South  \\\n",
       "0                         0               0                 0             0   \n",
       "1                         0               0                 1             0   \n",
       "2                         0               0                 1             0   \n",
       "3                         0               0                 0             1   \n",
       "4                         0               0                 1             0   \n",
       "...                     ...             ...               ...           ...   \n",
       "399995                    0               0                 0             1   \n",
       "399996                    0               0                 0             1   \n",
       "399997                    0               0                 0             1   \n",
       "399998                    0               0                 0             1   \n",
       "399999                    0               0                 0             1   \n",
       "\n",
       "        region_West  \n",
       "0                 1  \n",
       "1                 0  \n",
       "2                 0  \n",
       "3                 0  \n",
       "4                 0  \n",
       "...             ...  \n",
       "399995            0  \n",
       "399996            0  \n",
       "399997            0  \n",
       "399998            0  \n",
       "399999            0  \n",
       "\n",
       "[338864 rows x 55 columns]"
      ]
     },
     "execution_count": 77,
     "metadata": {},
     "output_type": "execute_result"
    }
   ],
   "source": [
    "df_train = pd.get_dummies(df, columns = ['due', 'loan_grade', 'home_ownership', 'income_verified', 'loan_category', 'loan_status', 'tenure_cat', 'region'], prefix = ['due', 'loan_grade', 'home_ownership', 'income_verified', 'loan_category', 'loan_status', 'tenure_cat', 'region'])\n",
    "df_train"
   ]
  },
  {
   "cell_type": "markdown",
   "id": "66a740b8-fdc0-4e2e-99ce-6616f94da92c",
   "metadata": {},
   "source": [
    "### Step 2:\n",
    "Build your models: Please build machine learning/statistical models in Python to predict the interest rate assigned to a loan. When writing the code associated with each model, please have the first part produce and save the model, followed by a second part that loads and applies the model."
   ]
  },
  {
   "cell_type": "markdown",
   "id": "40ad6684-d097-48e7-9b7a-be6007ef9d80",
   "metadata": {},
   "source": [
    "- First, we divide the cleansed data set into X(=features) and y."
   ]
  },
  {
   "cell_type": "code",
   "execution_count": 78,
   "id": "b8038e6a-0f35-4d57-8fde-944d490cfa9f",
   "metadata": {},
   "outputs": [],
   "source": [
    "# Split the data into features and target\n",
    "X = df_train.drop(\"interest_rate\", axis=1)\n",
    "y = df_train[\"interest_rate\"]"
   ]
  },
  {
   "cell_type": "markdown",
   "id": "302571e7-0494-48c3-9a76-f744a0c1dc0a",
   "metadata": {},
   "source": [
    "- Because we have a relatively large and high dimensional data set even after data cleansing process, we will 1) normalize and 2) standardize our data. \n",
    "- 1) Normalization: Normalization is a scaling technique that transforms a data point to have a unit magnitude or length of 1. In normalization, we rescale a feature to a specific range, typically between 0 and 1, to bring all the features to the same magnitude. Normalization is particularly useful when the features have widely different ranges, and it helps to reduce the impact of outliers on the model.\n",
    "- 2) Standardization: Standardization, on the other hand, transforms a feature to have a mean of 0 and a standard deviation of 1. In standardization, we subtract the mean of the feature from each value and divide the result by the standard deviation of the feature. This helps to bring the features to the same scale and eliminates the impact of different ranges."
   ]
  },
  {
   "cell_type": "code",
   "execution_count": 79,
   "id": "fcca7e83-013e-48db-971b-2d1905c4bf16",
   "metadata": {},
   "outputs": [],
   "source": [
    "normalizer = Normalizer()\n",
    "X_norm = normalizer.fit_transform(X)\n",
    "\n",
    "scaler = StandardScaler()\n",
    "X_standard = scaler.fit_transform(X_norm)"
   ]
  },
  {
   "cell_type": "markdown",
   "id": "ee721d58-d24e-4dc0-986f-a874fa4df4ec",
   "metadata": {},
   "source": [
    "- Perform PCA to reduce dimension???\n",
    "- After one hot encoding, the dimension increased more than 50 even after removing several features with chi-suqared test\n",
    "- So far, we reduced dimensions using PCA or t-SNE. However, in this case, they have clear limitation.\n",
    "1) PCA is not appropirate for categorical variables because it linearly reduces dimensions using eigen vectors.\n",
    "2) t-SNE usually reduces diensions into two for visualization. However, it cannot be recycled and usually it is not used to preprocess data. \n",
    "- Therefore, we will use the whole data set to build a model, but applicable codes for PCA are below."
   ]
  },
  {
   "cell_type": "raw",
   "id": "22ff6edf-ea04-46dc-b345-da439d7437d3",
   "metadata": {},
   "source": [
    "# Fit PCA to the data\n",
    "pca = PCA()\n",
    "pca.fit(X_standard)\n",
    "\n",
    "# Plot the explained variance ratio\n",
    "plt.plot(range(1, len(pca.explained_variance_ratio_) + 1), pca.explained_variance_ratio_)\n",
    "plt.xlabel('Number of Components')\n",
    "plt.ylabel('Explained Variance Ratio')\n",
    "plt.show()"
   ]
  },
  {
   "cell_type": "raw",
   "id": "3ffeafe6-c565-4cef-b7a1-9fffe162049d",
   "metadata": {},
   "source": [
    "pca = PCA(n_components=10)\n",
    "X_pca = pca.fit_transform(X_standard)"
   ]
  },
  {
   "cell_type": "markdown",
   "id": "ddb331b7-0c61-41d2-a431-c375e8e819e1",
   "metadata": {},
   "source": [
    "- Prepare data set to train models and split data set for cross validation\n",
    "- Note that we will use normalized and standardized X: \n",
    "- Normalizing and standardizing data can be helpful for regression models, as it can ensure that all features have a similar impact on the model and improve its performance and stability"
   ]
  },
  {
   "cell_type": "code",
   "execution_count": 80,
   "id": "f27a2251-084c-4b49-81b9-8f9b3a17be30",
   "metadata": {},
   "outputs": [],
   "source": [
    "train_X, test_X, train_y, test_y = train_test_split(X_standard, y, test_size = 0.2, random_state = 0)"
   ]
  },
  {
   "cell_type": "markdown",
   "id": "fb597dd4-4c73-4174-8ec2-26560629347e",
   "metadata": {},
   "source": [
    "- NRMSE: Taking the negative of the RMSE allows us to have a consistent sign convention for model performance, which makes it easier to compare the performance of different models."
   ]
  },
  {
   "cell_type": "code",
   "execution_count": 81,
   "id": "55854ae6-210d-47a4-9db5-c4f18f7a277d",
   "metadata": {},
   "outputs": [
    {
     "data": {
      "text/html": [
       "<div>\n",
       "<style scoped>\n",
       "    .dataframe tbody tr th:only-of-type {\n",
       "        vertical-align: middle;\n",
       "    }\n",
       "\n",
       "    .dataframe tbody tr th {\n",
       "        vertical-align: top;\n",
       "    }\n",
       "\n",
       "    .dataframe thead th {\n",
       "        text-align: right;\n",
       "    }\n",
       "</style>\n",
       "<table border=\"1\" class=\"dataframe\">\n",
       "  <thead>\n",
       "    <tr style=\"text-align: right;\">\n",
       "      <th></th>\n",
       "      <th>Model</th>\n",
       "      <th>Score</th>\n",
       "      <th>CV_Score</th>\n",
       "    </tr>\n",
       "  </thead>\n",
       "  <tbody>\n",
       "    <tr>\n",
       "      <th>5</th>\n",
       "      <td>xgb</td>\n",
       "      <td>1.926543</td>\n",
       "      <td>-2.081805e+00</td>\n",
       "    </tr>\n",
       "    <tr>\n",
       "      <th>3</th>\n",
       "      <td>Random_Forest</td>\n",
       "      <td>1.963860</td>\n",
       "      <td>-2.114868e+00</td>\n",
       "    </tr>\n",
       "    <tr>\n",
       "      <th>4</th>\n",
       "      <td>Gradient_Boost</td>\n",
       "      <td>2.102676</td>\n",
       "      <td>-2.206187e+00</td>\n",
       "    </tr>\n",
       "    <tr>\n",
       "      <th>0</th>\n",
       "      <td>KNN</td>\n",
       "      <td>2.316264</td>\n",
       "      <td>-2.479224e+00</td>\n",
       "    </tr>\n",
       "    <tr>\n",
       "      <th>1</th>\n",
       "      <td>Decision_Tree</td>\n",
       "      <td>2.783940</td>\n",
       "      <td>-2.932404e+00</td>\n",
       "    </tr>\n",
       "    <tr>\n",
       "      <th>2</th>\n",
       "      <td>Linear_Regression</td>\n",
       "      <td>3.101105</td>\n",
       "      <td>-3.674998e+12</td>\n",
       "    </tr>\n",
       "    <tr>\n",
       "      <th>7</th>\n",
       "      <td>Ridge</td>\n",
       "      <td>3.101223</td>\n",
       "      <td>-4.840852e+00</td>\n",
       "    </tr>\n",
       "    <tr>\n",
       "      <th>6</th>\n",
       "      <td>Lasso</td>\n",
       "      <td>3.847595</td>\n",
       "      <td>-3.878438e+00</td>\n",
       "    </tr>\n",
       "  </tbody>\n",
       "</table>\n",
       "</div>"
      ],
      "text/plain": [
       "               Model     Score      CV_Score\n",
       "5                xgb  1.926543 -2.081805e+00\n",
       "3      Random_Forest  1.963860 -2.114868e+00\n",
       "4     Gradient_Boost  2.102676 -2.206187e+00\n",
       "0                KNN  2.316264 -2.479224e+00\n",
       "1      Decision_Tree  2.783940 -2.932404e+00\n",
       "2  Linear_Regression  3.101105 -3.674998e+12\n",
       "7              Ridge  3.101223 -4.840852e+00\n",
       "6              Lasso  3.847595 -3.878438e+00"
      ]
     },
     "execution_count": 81,
     "metadata": {},
     "output_type": "execute_result"
    }
   ],
   "source": [
    "import warnings\n",
    "warnings.filterwarnings(\"ignore\")\n",
    "import pickle\n",
    "\n",
    "models = [KNeighborsRegressor, DecisionTreeRegressor, LinearRegression, RandomForestRegressor, GradientBoostingRegressor, xgb.XGBRegressor, Lasso, Ridge]\n",
    "model_names = ['KNN', 'Decision_Tree', 'Linear_Regression', 'Random_Forest', 'Gradient_Boost', 'xgb', 'Lasso', 'Ridge']\n",
    "scores = []\n",
    "cv_scores = []\n",
    "\n",
    "for i, model in enumerate(models):\n",
    "    regressor = model()\n",
    "    regressor.fit(train_X, train_y)\n",
    "    pred_y = regressor.predict(test_X)\n",
    "    \n",
    "    mse = mean_squared_error(test_y, pred_y)\n",
    "    rmse = sqrt(mse)\n",
    "    scores.append(rmse)\n",
    "    \n",
    "    cv_score = np.mean(cross_val_score(regressor, X_standard, y, scoring='neg_root_mean_squared_error', cv=5))\n",
    "    cv_scores.append(cv_score)\n",
    "    \n",
    "    filename = 'model_' + model_names[i] + '.pkl'\n",
    "    with open(filename, 'wb') as file:\n",
    "        pickle.dump(regressor, file)\n",
    "    \n",
    "table = pd.DataFrame({'Model': model_names, 'Score': scores, 'CV_Score': cv_scores}).sort_values(by='Score')\n",
    "table"
   ]
  },
  {
   "cell_type": "markdown",
   "id": "3542950f-2918-4e37-9864-a3726af9022b",
   "metadata": {},
   "source": [
    "- Because we estimated our models' RMSE, the lower the score model, the better the performance is. \n",
    "- We could consider using xgb or Random Forest seeing their model score(=RMSE) and cross-validation score(=negative RMSE). However, the difference between the score and cross-validation score is less in a random forest, which means less overfitted. In this context, Gradient_Boost can be a good option though its prediction performance is slightly worse compared to xgb and Random_Forest.\n",
    "- Considering both score and cross-validation, we will choose Random_Forest as the final model."
   ]
  },
  {
   "cell_type": "markdown",
   "id": "83630490-8717-40a2-8d63-bc223ed987db",
   "metadata": {},
   "source": [
    "### Step 3:\n",
    "Test your models using the data found within the \"Holdout for Testing\" file. Save the results of the final model (remember you will only predict the first column in holdout test set with your best model results) in a single, separate CSV titled \"Results from\" *insert your name or UChicago net ID."
   ]
  },
  {
   "cell_type": "markdown",
   "id": "1b05e674-3f67-426a-9324-3da12abb3600",
   "metadata": {},
   "source": [
    "- Prepare the test data with the same condition as the cleansed traning data\n",
    "- Due to several different charactertisitics, such that test data has no null values in annual income, several steps were omiitted or added."
   ]
  },
  {
   "cell_type": "code",
   "execution_count": 82,
   "id": "6a69eb17-a3b4-453b-91dd-fcba6f5be434",
   "metadata": {},
   "outputs": [],
   "source": [
    "df_test = pd.read_csv('Holdout for Testing.csv')"
   ]
  },
  {
   "cell_type": "code",
   "execution_count": 83,
   "id": "1e1b81ad-d35a-4504-ad27-15f21ce5c3bd",
   "metadata": {},
   "outputs": [],
   "source": [
    "column_names = ['interest_rate', 'id_loan', 'id_borrower', 'loan_requested', 'loan_funded', 'loan_investor', \n",
    "                'due', 'loan_grade', 'loan_subgrade', 'job_title', 'tenure', 'home_ownership', 'income_annual', \n",
    "                'income_verified', 'loan_date', 'loan_reason', 'loan_category', 'loan_title', 'zip', 'state', \n",
    "                'debt_to_income', 'past_due_number', 'credit_open_date', 'inquiry', 'past_due_after', \n",
    "                'past_due_pr_after', 'credit_open_number', 'pr_number', 'revolving', 'revolving_rate', \n",
    "                'credit_all_number', 'loan_status']\n",
    "df_test.columns = column_names"
   ]
  },
  {
   "cell_type": "raw",
   "id": "482126ba-c44f-4d13-9494-3d0b28047c81",
   "metadata": {
    "jupyter": {
     "source_hidden": true
    },
    "tags": []
   },
   "source": [
    "# 0. Apply to the testing data set \n",
    "df_test = df_test.dropna(subset = ['interest_rate', 'debt_to_income', 'credit_open_number', 'pr_number', 'revolving', 'credit_all_number', \n",
    "                      'inquiry', 'credit_open_date', 'credit_open_date', 'past_due_number', 'loan_category',\n",
    "                      'state', 'zip', 'id_loan', 'loan_date', 'income_verified', 'due', 'loan_investor',\n",
    "                      'loan_funded', 'loan_requested', 'id_borrower', 'loan_status'])"
   ]
  },
  {
   "cell_type": "raw",
   "id": "6f2a3f03-d19f-472c-8a3e-e016dfc0438d",
   "metadata": {
    "jupyter": {
     "source_hidden": true
    },
    "tags": []
   },
   "source": [
    "df_null = pd.DataFrame(df_test.isnull().sum())\n",
    "df_null_ratio = pd.DataFrame(df_test.isnull().sum() / len(df_test) * 100)\n",
    "\n",
    "df_null_report = pd.concat([df_null, df_null_ratio], axis = 1)\n",
    "df_null_report.columns = ['null_values(#)', 'null_ratio(%)']\n",
    "df_null_report.sort_values(by = 'null_values(#)', ascending = False, inplace = True)\n",
    "\n",
    "df_null_report"
   ]
  },
  {
   "cell_type": "code",
   "execution_count": 84,
   "id": "c27886a7-1d8d-4eb3-a9f1-4d0627267be9",
   "metadata": {},
   "outputs": [],
   "source": [
    "cols = ['past_due_pr_after', 'loan_reason', 'past_due_after', 'id_loan', 'id_borrower']\n",
    "df_test = df_test.drop(cols, axis = 1)"
   ]
  },
  {
   "cell_type": "code",
   "execution_count": 85,
   "id": "cce933dd-bda6-469c-8bd9-f2256a08bda9",
   "metadata": {},
   "outputs": [],
   "source": [
    "cols = ['loan_requested', 'loan_funded', 'loan_investor']\n",
    "\n",
    "df_test[cols] = df_test[cols].astype(str)\n",
    "df_test[cols] = df_test[cols].applymap(lambda x: x.replace('$', '').replace(',', ''))\n",
    "df_test[cols] = df_test[cols].astype(float)"
   ]
  },
  {
   "cell_type": "code",
   "execution_count": 86,
   "id": "0178dd3f-b604-4741-8e4a-c8422dbaaa89",
   "metadata": {},
   "outputs": [],
   "source": [
    "cols = ['revolving_rate']\n",
    "\n",
    "df_test[cols] = df_test[cols].astype(str)\n",
    "df_test[cols] = df_test[cols].applymap(lambda x: x.replace('%', ''))\n",
    "df_test[cols] = df_test[cols].astype(float)"
   ]
  },
  {
   "cell_type": "code",
   "execution_count": 87,
   "id": "094ce431-c1d9-4d21-9ce0-ed6d653d9e8e",
   "metadata": {},
   "outputs": [],
   "source": [
    "df_test = df_test.drop('loan_subgrade', axis = 1)"
   ]
  },
  {
   "cell_type": "code",
   "execution_count": 88,
   "id": "e392c443-bc15-4c2f-b348-0a019cbd13ec",
   "metadata": {},
   "outputs": [],
   "source": [
    "df_test['due'] = np.where(df_test['due'] == ' 36 months', '36M', '60M')"
   ]
  },
  {
   "cell_type": "code",
   "execution_count": 89,
   "id": "992aaa19-429d-479b-b16f-caee1cf641a7",
   "metadata": {},
   "outputs": [],
   "source": [
    "df_test = df_test.drop('job_title', axis = 1)"
   ]
  },
  {
   "cell_type": "code",
   "execution_count": 90,
   "id": "3d5c000d-878a-45c0-8c84-9a0858b0e404",
   "metadata": {},
   "outputs": [],
   "source": [
    "bambino = ['< 1 year', '1 year', '2 years', '3 years', '4 years']\n",
    "pro = ['5 years', '6 years', '7 years', '8 years', '9 years']\n",
    "veteran = ['10+ years']\n",
    "\n",
    "df_test['tenure_cat'] = np.where(df_test['tenure'].isin(bambino), '<5Y', np.where(df_test['tenure'].isin(pro), '5~9Y', '10Y+') )"
   ]
  },
  {
   "cell_type": "code",
   "execution_count": 91,
   "id": "4d171494-9d34-47c3-acdf-c8584b3c35ef",
   "metadata": {},
   "outputs": [],
   "source": [
    "def fix_date_format(date_string):\n",
    "    if date_string[0].isdigit():\n",
    "        if len(date_string) == 5:\n",
    "            date_string = '0' + date_string\n",
    "        return date_string[3:] + '-' + date_string[:2]\n",
    "    else:\n",
    "        return date_string\n",
    "\n",
    "df_test['credit_open_date'] = df_test['credit_open_date'].apply(fix_date_format)\n",
    "df_test['credit_open_year'] = df_test['credit_open_date'].str[-2:]\n",
    "df_test['credit_open_year'] = df_test['credit_open_year'].astype(int)\n",
    "year_list = df_test['credit_open_year'].copy().to_list()"
   ]
  },
  {
   "cell_type": "code",
   "execution_count": 92,
   "id": "9a9c2a4a-9960-47b3-92db-2f9773af9a4e",
   "metadata": {
    "tags": []
   },
   "outputs": [],
   "source": [
    "year = []\n",
    "\n",
    "for y in year_list:\n",
    "    if y < 20:\n",
    "        y = y + 2000\n",
    "    else: \n",
    "        y = y + 1900\n",
    "    year.append(y)"
   ]
  },
  {
   "cell_type": "code",
   "execution_count": 93,
   "id": "2c760515-5372-4dc3-a145-77a14213e319",
   "metadata": {},
   "outputs": [],
   "source": [
    "df_test['credit_open_year'] = year\n",
    "df_test['credit_open_year'] = df_test['credit_open_year'].astype(int)"
   ]
  },
  {
   "cell_type": "code",
   "execution_count": 94,
   "id": "68d68dd8-e70d-46be-9a2e-33972855782f",
   "metadata": {},
   "outputs": [],
   "source": [
    "df_test = df_test.drop('credit_open_date', axis = 1)"
   ]
  },
  {
   "cell_type": "code",
   "execution_count": 95,
   "id": "2910f6c1-2b25-4cf1-96d6-b6a7d06917a0",
   "metadata": {},
   "outputs": [],
   "source": [
    "df_test.loc[df_test['tenure_cat'].isnull(), 'tenure_cat'] = np.where(df_test['credit_open_year'] >= 2009, '<5Y', np.where(df_test['credit_open_year'] >= 2003, '5~9Y', '10Y+'))"
   ]
  },
  {
   "cell_type": "code",
   "execution_count": 96,
   "id": "8ed3368f-2643-4cbb-9eea-49936bfd42e2",
   "metadata": {},
   "outputs": [],
   "source": [
    "df_test= df_test.drop('tenure', axis = 1)"
   ]
  },
  {
   "cell_type": "code",
   "execution_count": 97,
   "id": "5ca43c33-3b2a-4327-8105-b5643079bbc6",
   "metadata": {},
   "outputs": [
    {
     "data": {
      "text/plain": [
       "MORTGAGE    38994\n",
       "RENT        32778\n",
       "OWN          8228\n",
       "Name: home_ownership, dtype: int64"
      ]
     },
     "execution_count": 97,
     "metadata": {},
     "output_type": "execute_result"
    }
   ],
   "source": [
    "mask = (df_test['home_ownership'] == 'OTHER') | (df_test['home_ownership'] == 'NONE') | (df_test['home_ownership'] == 'ANY')\n",
    "\n",
    "df_test['home_ownership'] = np.where(mask, 'OTHER', df_test['home_ownership'])\n",
    "df_test['home_ownership'].value_counts(ascending = False)"
   ]
  },
  {
   "cell_type": "code",
   "execution_count": 98,
   "id": "06b79e5d-0bb6-4ddf-a57e-1c45084dd46f",
   "metadata": {},
   "outputs": [
    {
     "data": {
      "text/plain": [
       "0"
      ]
     },
     "execution_count": 98,
     "metadata": {},
     "output_type": "execute_result"
    }
   ],
   "source": [
    "df_test['home_ownership'].isnull().sum()"
   ]
  },
  {
   "cell_type": "raw",
   "id": "e63e1e9f-43ac-45f8-896f-75558760b972",
   "metadata": {
    "tags": []
   },
   "source": [
    "# 15. Apply to the testing data set \n",
    "mask = df_test['home_ownership'].isnull() & ((df_test['loan_category'] == 'house') | (df_test['loan_category'] == 'major_purchase') | (df_test['loan_category'] == 'home_improvement') | (df_test['loan_category'] == 'renewable_energy') )\n",
    "df_test['home_ownership'] = np.where(mask, 'MORTGAGE', df_test['home_ownership'])\n",
    "\n",
    "# 16. Apply to the testing data set \n",
    "mask = df_test['home_ownership'].isnull() & ((df_test['loan_category'] == 'moving') | (df_test['loan_category'] == 'wedding'))\n",
    "df_test['home_ownership'] = np.where(mask, 'RENT', df_test['home_ownership'])\n",
    "\n",
    "# 17. Apply to the testing data set\n",
    "mask = df_test['home_ownership'].isnull() & df_test['loan_title'].str.contains('house' or 'home imporvement' or 'mortgage')\n",
    "# Later, we can add more words to filtr if necessary \n",
    "df_test['home_ownership'] = np.where(mask, 'MORTGAGE', df_test['home_ownership'])\n",
    "df_test['home_ownership'].isnull().sum() / len(df_test)\n",
    "\n",
    "# 18. Apply to the testing data set\n",
    "mask = df_test['home_ownership'].isnull() & df_test'loan_title'].str.contains('moving' or 'wedding' or 'rental')\n",
    "# Later, we can add more words to filtr if necessary \n",
    "df_test['home_ownership'] = np.where(mask, 'RENT', df_test['home_ownership'])\n",
    "df_test['home_ownership'].isnull().sum() / len(df_test)"
   ]
  },
  {
   "cell_type": "code",
   "execution_count": 99,
   "id": "9c1a6bd8-fdd6-41d6-a35b-1aeb92e4b25b",
   "metadata": {},
   "outputs": [],
   "source": [
    "df_test = df_test.drop('loan_title', axis = 1)"
   ]
  },
  {
   "cell_type": "code",
   "execution_count": 100,
   "id": "173b669c-fb87-4579-b73e-17d43a41a172",
   "metadata": {},
   "outputs": [],
   "source": [
    "df_test['income_verified'] = np.where(df_test['income_verified'] == 'VERIFIED - income', 'Income', np.where(df_test['income_verified'] == 'VERIFIED - income source', 'Source', 'No'))"
   ]
  },
  {
   "cell_type": "code",
   "execution_count": 101,
   "id": "d24c4153-5a80-4474-baba-45b07c21ce9f",
   "metadata": {
    "tags": []
   },
   "outputs": [],
   "source": [
    "df_test['loan_year'] = df_test['loan_date'].str[:2]\n",
    "df_test['loan_year'] = '20' + df_test['loan_year']\n",
    "df_test['loan_year'] = df_test['loan_year'].astype(int)"
   ]
  },
  {
   "cell_type": "code",
   "execution_count": 102,
   "id": "9922e066-b0e6-4a66-b19d-59c9a94ea21a",
   "metadata": {},
   "outputs": [],
   "source": [
    "df_test= df_test.drop('loan_date', axis = 1)"
   ]
  },
  {
   "cell_type": "code",
   "execution_count": 103,
   "id": "5287b98b-88a3-4d89-b3f3-2512e52f70dd",
   "metadata": {},
   "outputs": [],
   "source": [
    "df_test= df_test.drop('zip', axis = 1)"
   ]
  },
  {
   "cell_type": "code",
   "execution_count": 104,
   "id": "922ac8c1-e446-4986-9872-423671261611",
   "metadata": {},
   "outputs": [],
   "source": [
    "Northeast = ['ME', 'NH', 'VT', 'MA', 'RI', 'CT', 'NY', 'NJ']\n",
    "Mid_Atlantic = ['PA', 'DE', 'MD', 'VA', 'WV', 'DC']\n",
    "South = ['KY', 'TN', 'NC', 'SC', 'GA', 'AL', 'FL', 'MS', 'AR', 'LA', 'TX']\n",
    "Midwest = ['OH', 'IN', 'IL', 'MI', 'WI', 'MN', 'IA', 'MO', 'ND', 'SD', 'NE', 'KS']\n",
    "West = ['MT', 'ID', 'WY', 'CO', 'NM', 'AZ', 'UT', 'NV', 'OR', 'WA', 'CA', 'AK', 'HI']\n",
    "state = df_test['state'].to_list()\n",
    "regions = []\n",
    "\n",
    "for state_ in state: \n",
    "    if state_ in Northeast:\n",
    "        regions.append('Northeast')\n",
    "    elif state_ in Mid_Atlantic:\n",
    "        regions.append('Mid_Atlantic')\n",
    "    elif state_ in South:\n",
    "        regions.append('South')\n",
    "    elif state_ in Midwest:\n",
    "        regions.append('Midwest')\n",
    "    else:\n",
    "        regions.append('West')\n",
    "        \n",
    "df_test['region'] = regions"
   ]
  },
  {
   "cell_type": "code",
   "execution_count": 105,
   "id": "d750d504-ef07-412a-9b7f-093da0df627e",
   "metadata": {},
   "outputs": [],
   "source": [
    "df_test = df_test.drop('state', axis = 1)"
   ]
  },
  {
   "cell_type": "code",
   "execution_count": 106,
   "id": "0195cdb3-75de-46c5-a041-446a78e3834b",
   "metadata": {
    "tags": []
   },
   "outputs": [],
   "source": [
    "df_test['revolving_rate'] = np.where(df_test['revolving'] == 0.0, 0.0, df_test['revolving_rate'])"
   ]
  },
  {
   "cell_type": "code",
   "execution_count": 107,
   "id": "e228bedb-2c98-497d-a578-afd19962d5b7",
   "metadata": {},
   "outputs": [
    {
     "data": {
      "text/plain": [
       "7"
      ]
     },
     "execution_count": 107,
     "metadata": {},
     "output_type": "execute_result"
    }
   ],
   "source": [
    "df_test['revolving_rate'].isnull().sum()"
   ]
  },
  {
   "cell_type": "code",
   "execution_count": 108,
   "id": "7792fdc2-bd48-4471-917d-e6fa531ab605",
   "metadata": {},
   "outputs": [],
   "source": [
    "df_test['revolving_rate'] = df_test['revolving_rate'].interpolate()"
   ]
  },
  {
   "cell_type": "code",
   "execution_count": 109,
   "id": "03145545-ea5c-4bfa-b350-fc782f1ebad2",
   "metadata": {},
   "outputs": [
    {
     "data": {
      "text/plain": [
       "0"
      ]
     },
     "execution_count": 109,
     "metadata": {},
     "output_type": "execute_result"
    }
   ],
   "source": [
    "df_test['revolving_rate'].isnull().sum()"
   ]
  },
  {
   "cell_type": "raw",
   "id": "5b178225-b2ac-4aff-b71e-e4b41868ec35",
   "metadata": {
    "jupyter": {
     "source_hidden": true
    },
    "tags": []
   },
   "source": [
    "# 26. Apply to the testing data set\n",
    "    \n",
    "# Prepare the data by removing the rows with missing values in the target variable\n",
    "df_test_without_missing = df_test.dropna(subset=['revolving_rate'])\n",
    "X = df_test_without_missing[['loan_requested', 'loan_funded', 'loan_investor', 'debt_to_income']]\n",
    "y = df_test_without_missing['revolving_rate']\n",
    "\n",
    "# Train the model\n",
    "reg = LinearRegression().fit(X, y)\n",
    "\n",
    "# Make predictions for the missing values in the target variable\n",
    "X_missing = df_test[df_test['revolving_rate'].isna()][['loan_requested', 'loan_funded', 'loan_investor', 'debt_to_income']]\n",
    "y_missing = reg.predict(X_missing)\n",
    "\n",
    "# Fill the missing values in the original data frame\n",
    "df_test.loc[df_test['revolving_rate'].isna(), 'revolving_rate'] = y_missing\n",
    "\n",
    "df_test['revolving_rate'].isnull().sum()"
   ]
  },
  {
   "cell_type": "code",
   "execution_count": 110,
   "id": "9d1f7e94-63da-407d-ac58-e53866c7f294",
   "metadata": {},
   "outputs": [
    {
     "data": {
      "text/plain": [
       "0"
      ]
     },
     "execution_count": 110,
     "metadata": {},
     "output_type": "execute_result"
    }
   ],
   "source": [
    "df_test['income_annual'].isnull().sum()"
   ]
  },
  {
   "cell_type": "raw",
   "id": "0b7f3534-74f2-45fa-8f2b-be9be8d3a08e",
   "metadata": {
    "jupyter": {
     "source_hidden": true
    },
    "tags": []
   },
   "source": [
    "# 27. Apply to the testing data set\n",
    "\n",
    "# Prepare the data by removing the rows with missing values in the target variable\n",
    "df_test_without_missing = df_test.dropna(subset=['income_annual'])\n",
    "X = df_test_without_missing[['loan_requested', 'loan_funded', 'loan_investor', 'debt_to_income']]\n",
    "y = df_test_without_missing['income_annual']\n",
    "\n",
    "# Train the model\n",
    "reg = LinearRegression().fit(X, y)\n",
    "\n",
    "# Make predictions for the missing values in the target variable\n",
    "X_missing = df_test[df_test['income_annual'].isna()][['loan_requested', 'loan_funded', 'loan_investor', 'debt_to_income' ]]\n",
    "y_missing = reg.predict(X_missing)\n",
    "\n",
    "# Fill the missing values in the original data frame\n",
    "df_test.loc[df_test['income_annual'].isna(), 'income_annual'] = y_missing\n",
    "\n",
    "df_test['income_annual'].isnull().sum()"
   ]
  },
  {
   "cell_type": "code",
   "execution_count": 111,
   "id": "0e811e7f-2541-49ee-943f-a7760c809bd3",
   "metadata": {},
   "outputs": [
    {
     "name": "stdout",
     "output_type": "stream",
     "text": [
      "0\n",
      "0\n"
     ]
    }
   ],
   "source": [
    "print(df_test['home_ownership'].isnull().sum())\n",
    "print(df_test['loan_grade'].isnull().sum())"
   ]
  },
  {
   "cell_type": "raw",
   "id": "8b3698b4-1a6c-407b-9c69-f34a58350e63",
   "metadata": {
    "jupyter": {
     "source_hidden": true
    },
    "tags": []
   },
   "source": [
    "# 28. Apply to the testing data set\n",
    "# One-hot encode the categorical features\n",
    "df_test['home_ownership'].fillna('Unknown', inplace = True)\n",
    "df_test['loan_grade'].fillna('Unknown', inplace = True)\n",
    "\n",
    "df_test_encoded = pd.get_dummies(df_test, columns = ['due', 'loan_grade', 'home_ownership', 'income_verified', 'loan_category', 'loan_status', 'tenure_cat', 'region'], prefix = ['due', 'loan_grade', 'home_ownership', 'income_verified', 'loan_category', 'loan_status', 'tenure_cat', 'region'])\n",
    "home_len = len(df_test['home_ownership'].unique())\n",
    "loan_len = len(df_test['loan_grade'].unique())"
   ]
  },
  {
   "cell_type": "raw",
   "id": "19fc5d47-978e-4766-8d66-da14ec66a9a2",
   "metadata": {
    "jupyter": {
     "source_hidden": true
    },
    "tags": []
   },
   "source": [
    "# 29. Apply to the testing data set\n",
    "\n",
    "# Split data into features and target variable\n",
    "X = df_test_encoded.drop(['loan_grade_Unknown'], axis = 1)\n",
    "y = df_test_encoded['loan_grade_Unknown']\n",
    "\n",
    "# Split data into training and test sets\n",
    "train_X = X[y==0]\n",
    "test_X = X[y==1]\n",
    "\n",
    "# Fit the k-means model to the training data\n",
    "kmeans = KMeans(n_clusters = loan_len, random_state = 0).fit(train_X)\n",
    "\n",
    "# Predict the missing loan grade values\n",
    "pred_loan_grades = kmeans.predict(test_X)\n",
    "\n",
    "# Get the unique loan grades\n",
    "loan_grades = df_test['loan_grade'].unique()\n",
    "\n",
    "# Fill in the missing loan grade values in the original data\n",
    "# Be aware of label-based indexing\n",
    "# K-means method, the label appears as a number starting from 0\n",
    "df_test.loc[y==1, 'loan_grade'] = [loan_grades[i] for i in pred_loan_grades]"
   ]
  },
  {
   "cell_type": "raw",
   "id": "4f9a2f39-2f37-4592-bab2-90a68be99338",
   "metadata": {
    "jupyter": {
     "source_hidden": true
    },
    "tags": []
   },
   "source": [
    "# 30. Apply to the testing data set\n",
    "\n",
    "# Split data into features and target variable\n",
    "X = df_test_encoded.drop(['home_ownership_Unknown'], axis = 1)\n",
    "y = df_test_encoded['home_ownership_Unknown']\n",
    "\n",
    "# Split data into training and test sets\n",
    "train_X = X[y==0]\n",
    "test_X = X[y==1]\n",
    "\n",
    "# Fit the k-means model to the training data\n",
    "kmeans = KMeans(n_clusters = home_len, random_state = 0).fit(train_X)\n",
    "\n",
    "# Predict the missing loan grade values\n",
    "pred_home_ownership = kmeans.predict(test_X)\n",
    "\n",
    "# Get the unique loan grades\n",
    "home_types = df_test['home_ownership'].unique()\n",
    "\n",
    "# Fill in the missing loan grade values in the original data\n",
    "# Be aware of label-based indexing\n",
    "# pred_loan_grades is likely an array or a list containing the predicted loan grades for the observatio\n",
    "df_test.loc[y==1, 'home_ownership'] = [home_types[i] for i in pred_home_ownership]"
   ]
  },
  {
   "cell_type": "code",
   "execution_count": 112,
   "id": "a2c7fbe8-815d-4abd-be58-28820cb586b2",
   "metadata": {},
   "outputs": [],
   "source": [
    "df_test = pd.get_dummies(df, columns = ['due', 'loan_grade', 'home_ownership', 'income_verified', 'loan_category', 'loan_status', 'tenure_cat', 'region'], prefix = ['due', 'loan_grade', 'home_ownership', 'income_verified', 'loan_category', 'loan_status', 'tenure_cat', 'region'])"
   ]
  },
  {
   "cell_type": "markdown",
   "id": "afd4d2fe-bfd1-48bf-ba41-3dc699460c97",
   "metadata": {},
   "source": [
    "- Now, we also have our test data set with same condition as train data set."
   ]
  },
  {
   "cell_type": "code",
   "execution_count": 113,
   "id": "a78b6c8d-8de7-4136-8bfc-2938a902beef",
   "metadata": {},
   "outputs": [
    {
     "name": "stdout",
     "output_type": "stream",
     "text": [
      "55\n",
      "55\n"
     ]
    }
   ],
   "source": [
    "print(len(df_train.columns))\n",
    "print(len(df_test.columns))"
   ]
  },
  {
   "cell_type": "markdown",
   "id": "8d949bc9-072b-4be7-b495-369ebfd7119b",
   "metadata": {},
   "source": [
    "- Drop y variable : interest rate for prediction \n",
    "- Normalize and standardize our data set and reduce dimensions through PCA\n",
    "- Apply 'Random_Forest', which showed the best performance when using train data set"
   ]
  },
  {
   "cell_type": "code",
   "execution_count": 114,
   "id": "93923091-a074-49a5-86fe-385c2f21ed4c",
   "metadata": {},
   "outputs": [],
   "source": [
    "df_test_X = df_test.drop('interest_rate', axis = 1)"
   ]
  },
  {
   "cell_type": "code",
   "execution_count": 115,
   "id": "b5b828bd-307b-4b95-8b6d-a74f54ef4783",
   "metadata": {},
   "outputs": [],
   "source": [
    "normalizer = Normalizer()\n",
    "test_X_norm = normalizer.fit_transform(df_test_X)\n",
    "\n",
    "scaler = StandardScaler()\n",
    "test_X_standard = scaler.fit_transform(test_X_norm)"
   ]
  },
  {
   "cell_type": "raw",
   "id": "95213b82-0104-4194-b0fe-7d91616089b9",
   "metadata": {
    "jupyter": {
     "source_hidden": true
    },
    "tags": []
   },
   "source": [
    "pca = PCA(n_components = 10)\n",
    "test_X_pca = pca.fit_transform(X_standard)"
   ]
  },
  {
   "cell_type": "code",
   "execution_count": 116,
   "id": "094b5c2d-1209-4072-a6c2-70baf1c88612",
   "metadata": {},
   "outputs": [],
   "source": [
    "# model_names = ['KNN', 'Decision_Tree', 'Random_Forest', 'Linear_Regression', 'Stochastic_Gradient_Decent', 'Gradient_Boost', 'xgb']\n",
    "\n",
    "filename = 'model_' + 'Random_Forest' + '.pkl'\n",
    "loaded_model = pickle.load(open(filename, 'rb'))"
   ]
  },
  {
   "cell_type": "code",
   "execution_count": 117,
   "id": "ff20e55f-ef2d-4d70-8647-80ec4c53b26a",
   "metadata": {},
   "outputs": [],
   "source": [
    "predictions = loaded_model.predict(test_X_standard)\n",
    "predictions_df = pd.DataFrame({'Prediction': predictions})"
   ]
  },
  {
   "cell_type": "code",
   "execution_count": 118,
   "id": "55d09c49-b147-47da-a823-6086ceda32c4",
   "metadata": {},
   "outputs": [],
   "source": [
    "predictions_df.to_csv('Results.csv', index = False)"
   ]
  }
 ],
 "metadata": {
  "kernelspec": {
   "display_name": "Python 3 (ipykernel)",
   "language": "python",
   "name": "python3"
  },
  "language_info": {
   "codemirror_mode": {
    "name": "ipython",
    "version": 3
   },
   "file_extension": ".py",
   "mimetype": "text/x-python",
   "name": "python",
   "nbconvert_exporter": "python",
   "pygments_lexer": "ipython3",
   "version": "3.9.13"
  }
 },
 "nbformat": 4,
 "nbformat_minor": 5
}
